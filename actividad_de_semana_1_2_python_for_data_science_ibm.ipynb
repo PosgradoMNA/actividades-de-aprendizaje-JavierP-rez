{
  "nbformat": 4,
  "nbformat_minor": 0,
  "metadata": {
    "colab": {
      "provenance": [],
      "authorship_tag": "ABX9TyPZWeU0hlSCgVGfny99cbKj",
      "include_colab_link": true
    },
    "kernelspec": {
      "name": "python3",
      "display_name": "Python 3"
    },
    "language_info": {
      "name": "python"
    }
  },
  "cells": [
    {
      "cell_type": "markdown",
      "metadata": {
        "id": "view-in-github",
        "colab_type": "text"
      },
      "source": [
        "<a href=\"https://colab.research.google.com/github/PosgradoMNA/actividades-de-aprendizaje-JavierP-rez/blob/main/actividad_de_semana_1_2_python_for_data_science_ibm.ipynb\" target=\"_parent\"><img src=\"https://colab.research.google.com/assets/colab-badge.svg\" alt=\"Open In Colab\"/></a>"
      ]
    },
    {
      "cell_type": "markdown",
      "source": [
        "# **Python for Data Science**\n",
        "\n",
        "\n",
        "---\n",
        "\n"
      ],
      "metadata": {
        "id": "-ZmNAM6G9scc"
      }
    },
    {
      "cell_type": "markdown",
      "source": [
        "## **Module 1 - Python Basics **\n",
        "\n",
        "\n",
        "---\n",
        "\n"
      ],
      "metadata": {
        "id": "MqEoEMWUP48W"
      }
    },
    {
      "cell_type": "code",
      "source": [
        "#Statement or expression\n",
        "#Syntatic error\n",
        "#Semantic error\n",
        "print(\"Hello\\nWorld!\")"
      ],
      "metadata": {
        "colab": {
          "base_uri": "https://localhost:8080/"
        },
        "id": "0NcjdY0UPkTq",
        "outputId": "92f34ecf-8603-40d3-ca50-04f9b6fb3d90"
      },
      "execution_count": 3,
      "outputs": [
        {
          "output_type": "stream",
          "name": "stdout",
          "text": [
            "Hello\n",
            "World!\n"
          ]
        }
      ]
    },
    {
      "cell_type": "code",
      "source": [
        "#Types\n",
        "#int, float, string\n",
        "print(type(11))\n",
        "print(type(21.23))\n",
        "print(type(\"Hello, world!\"))"
      ],
      "metadata": {
        "colab": {
          "base_uri": "https://localhost:8080/"
        },
        "id": "2YjOT8j5Q0Q3",
        "outputId": "307ecec1-1b11-4e76-999c-0b86552b98f7"
      },
      "execution_count": 5,
      "outputs": [
        {
          "output_type": "stream",
          "name": "stdout",
          "text": [
            "<class 'int'>\n",
            "<class 'float'>\n",
            "<class 'str'>\n"
          ]
        }
      ]
    },
    {
      "cell_type": "code",
      "source": [
        "#casting\n",
        "print(float(2))\n",
        "print(int(1.1))\n",
        "print(int('1'))\n",
        "#error\n",
        "#print(int('A'))\n",
        "print(str(1.5))\n",
        "print(str(1))\n",
        "#Boolean -> True or False\n",
        "print(type(True))\n",
        "print(int(True))\n",
        "print(int(False))\n",
        "print(bool(1))\n",
        "print(bool(0))"
      ],
      "metadata": {
        "colab": {
          "base_uri": "https://localhost:8080/"
        },
        "id": "o0gGf-CQXnT-",
        "outputId": "ec3d3374-036e-4e17-df8f-a99f59080f24"
      },
      "execution_count": 13,
      "outputs": [
        {
          "output_type": "stream",
          "name": "stdout",
          "text": [
            "2.0\n",
            "1\n",
            "1\n",
            "1.5\n",
            "1\n",
            "<class 'bool'>\n",
            "1\n",
            "0\n",
            "True\n",
            "False\n"
          ]
        }
      ]
    },
    {
      "cell_type": "code",
      "source": [
        "#Expressions\n",
        "print(34+43*60/14-16)\n",
        "print(34+43*60//14-16)\n",
        "print(34+43*60//(14-16))\n",
        "#Variables\n",
        "my_variable = 1\n",
        "print(my_variable)\n",
        "x = 102 + 1 * 2\n",
        "print(x)"
      ],
      "metadata": {
        "colab": {
          "base_uri": "https://localhost:8080/"
        },
        "id": "WZME1zRuZZ_s",
        "outputId": "63ae03c4-55fb-4cc2-f852-d72f45a31aaa"
      },
      "execution_count": 24,
      "outputs": [
        {
          "output_type": "stream",
          "name": "stdout",
          "text": [
            "202.28571428571428\n",
            "202\n",
            "-1256\n",
            "1\n",
            "104\n"
          ]
        }
      ]
    },
    {
      "cell_type": "code",
      "source": [
        "#String Operations\n",
        "#String\n",
        "name = 'Michael'\n",
        "print(name[0])\n",
        "print(name[2])\n",
        "print(name[-1])\n",
        "#Slicing\n",
        "print(name[1:4])\n",
        "#Concatenate\n",
        "word = 'Hello' + 'world'\n",
        "print(word)\n",
        "print(3 * \"name\")\n",
        "name = 'Michael'\n",
        "name = 'Michael' + \"J\"\n",
        "print(name)\n",
        "#Strings are immutable\n",
        "#\\n\n",
        "#\\t\n",
        "#\\\\\n",
        "#String methods\n",
        "A = \"example\"\n",
        "print(A.upper())\n",
        "print(A.replace('a','b'))\n",
        "print(A.find('p'))\n",
        "print(A.find('z'))\n",
        "\n"
      ],
      "metadata": {
        "colab": {
          "base_uri": "https://localhost:8080/"
        },
        "id": "DHiNH_NJb0u_",
        "outputId": "c514fa7a-18c0-45e1-b15c-8b5fa07c4e6d"
      },
      "execution_count": 34,
      "outputs": [
        {
          "output_type": "stream",
          "name": "stdout",
          "text": [
            "M\n",
            "c\n",
            "l\n",
            "ich\n",
            "Helloworld\n",
            "namenamename\n",
            "MichaelJ\n",
            "EXAMPLE\n",
            "exbmple\n",
            "4\n",
            "-1\n"
          ]
        }
      ]
    },
    {
      "cell_type": "markdown",
      "source": [
        "## **Module 2 - Python Data Structures **\n",
        "\n",
        "\n",
        "---\n",
        "\n",
        "\n"
      ],
      "metadata": {
        "id": "PDoPBgMPhaNE"
      }
    },
    {
      "cell_type": "code",
      "source": [
        "#Lists and Tuples\n",
        "#These are called compound data types\n",
        "#Tuples - order sequence\n",
        "ratings = (10, 9, 6, 5, 10, 8, 9, 6, 2)\n",
        "print(ratings)\n",
        "tuple1 = ('disco', 10, 1.2)\n",
        "#Type of the element is a tuple\n",
        "print(type(tuple1))\n",
        "#Access an element of the tuple with index\n",
        "print(ratings[1])\n",
        "print(ratings[-1])\n",
        "#Concatenate\n",
        "tuple2 = tuple1 + (\"hw\", 10)\n",
        "print(tuple2)\n",
        "#Slice\n",
        "print(tuple2[0:3])\n",
        "print(tuple2[3:5])\n",
        "print(len(tuple2))\n",
        "#Tuples are immutable\n",
        "ratings1 = ratings #References the same immutable tuple object\n",
        "ratings = (2, 10, 1)\n",
        "print(ratings1)\n",
        "print(ratings)\n",
        "Ratings_sorted = sorted(ratings1)\n",
        "print(Ratings_sorted)\n",
        "#nesting\n",
        "#See as a tree\n",
        "nt = ((1,2,3), 3,4)\n",
        "print(nt[0])\n",
        "print(nt[0][1])\n"
      ],
      "metadata": {
        "colab": {
          "base_uri": "https://localhost:8080/"
        },
        "id": "EXDiSVHuj1DD",
        "outputId": "657871e7-765e-4312-bf4a-5a254b45c6bd"
      },
      "execution_count": 49,
      "outputs": [
        {
          "output_type": "stream",
          "name": "stdout",
          "text": [
            "(10, 9, 6, 5, 10, 8, 9, 6, 2)\n",
            "<class 'tuple'>\n",
            "9\n",
            "2\n",
            "('disco', 10, 1.2, 'hw', 10)\n",
            "('disco', 10, 1.2)\n",
            "('hw', 10)\n",
            "5\n",
            "(10, 9, 6, 5, 10, 8, 9, 6, 2)\n",
            "(2, 10, 1)\n",
            "[2, 5, 6, 6, 8, 9, 9, 10, 10]\n",
            "(1, 2, 3)\n",
            "2\n"
          ]
        }
      ]
    },
    {
      "cell_type": "code",
      "source": [
        "#List\n",
        "#ordered sequence\n"
      ],
      "metadata": {
        "id": "PEa5HkhcIBb6"
      },
      "execution_count": null,
      "outputs": []
    }
  ]
}