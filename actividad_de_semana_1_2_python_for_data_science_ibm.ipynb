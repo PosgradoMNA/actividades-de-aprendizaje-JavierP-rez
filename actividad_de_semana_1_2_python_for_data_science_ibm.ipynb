{
  "nbformat": 4,
  "nbformat_minor": 0,
  "metadata": {
    "colab": {
      "provenance": [],
      "authorship_tag": "ABX9TyPUUG1tELeIIpa2Tec71sgV",
      "include_colab_link": true
    },
    "kernelspec": {
      "name": "python3",
      "display_name": "Python 3"
    },
    "language_info": {
      "name": "python"
    }
  },
  "cells": [
    {
      "cell_type": "markdown",
      "metadata": {
        "id": "view-in-github",
        "colab_type": "text"
      },
      "source": [
        "<a href=\"https://colab.research.google.com/github/PosgradoMNA/actividades-de-aprendizaje-JavierP-rez/blob/main/actividad_de_semana_1_2_python_for_data_science_ibm.ipynb\" target=\"_parent\"><img src=\"https://colab.research.google.com/assets/colab-badge.svg\" alt=\"Open In Colab\"/></a>"
      ]
    },
    {
      "cell_type": "markdown",
      "source": [
        "Python for Data Science"
      ],
      "metadata": {
        "id": "-ZmNAM6G9scc"
      }
    },
    {
      "cell_type": "markdown",
      "source": [
        "Module 1 - Python Basics "
      ],
      "metadata": {
        "id": "MqEoEMWUP48W"
      }
    },
    {
      "cell_type": "code",
      "source": [
        "#Statement or expression\n",
        "#Syntatic error\n",
        "#Semantic error\n",
        "print(\"Hello\\nWorld!\")"
      ],
      "metadata": {
        "id": "0NcjdY0UPkTq",
        "outputId": "92f34ecf-8603-40d3-ca50-04f9b6fb3d90",
        "colab": {
          "base_uri": "https://localhost:8080/"
        }
      },
      "execution_count": 3,
      "outputs": [
        {
          "output_type": "stream",
          "name": "stdout",
          "text": [
            "Hello\n",
            "World!\n"
          ]
        }
      ]
    },
    {
      "cell_type": "code",
      "source": [],
      "metadata": {
        "id": "2YjOT8j5Q0Q3"
      },
      "execution_count": null,
      "outputs": []
    }
  ]
}