{
  "nbformat": 4,
  "nbformat_minor": 0,
  "metadata": {
    "colab": {
      "provenance": [],
      "authorship_tag": "ABX9TyMGeDJ6v8wJL7JI5xm5R8uu",
      "include_colab_link": true
    },
    "kernelspec": {
      "name": "python3",
      "display_name": "Python 3"
    },
    "language_info": {
      "name": "python"
    }
  },
  "cells": [
    {
      "cell_type": "markdown",
      "metadata": {
        "id": "view-in-github",
        "colab_type": "text"
      },
      "source": [
        "<a href=\"https://colab.research.google.com/github/PosgradoMNA/actividades-de-aprendizaje-JavierP-rez/blob/main/actividad_de_semana_1_2_python_for_data_science_ibm.ipynb\" target=\"_parent\"><img src=\"https://colab.research.google.com/assets/colab-badge.svg\" alt=\"Open In Colab\"/></a>"
      ]
    },
    {
      "cell_type": "markdown",
      "source": [
        "Python for Data Science"
      ],
      "metadata": {
        "id": "-ZmNAM6G9scc"
      }
    },
    {
      "cell_type": "markdown",
      "source": [
        "Module 1 - Python Basics "
      ],
      "metadata": {
        "id": "MqEoEMWUP48W"
      }
    },
    {
      "cell_type": "code",
      "source": [
        "#Statement or expression\n",
        "#Syntatic error\n",
        "#Semantic error\n",
        "print(\"Hello\\nWorld!\")"
      ],
      "metadata": {
        "colab": {
          "base_uri": "https://localhost:8080/"
        },
        "id": "0NcjdY0UPkTq",
        "outputId": "92f34ecf-8603-40d3-ca50-04f9b6fb3d90"
      },
      "execution_count": 3,
      "outputs": [
        {
          "output_type": "stream",
          "name": "stdout",
          "text": [
            "Hello\n",
            "World!\n"
          ]
        }
      ]
    },
    {
      "cell_type": "code",
      "source": [
        "#Types\n",
        "#int, float, string\n",
        "print(type(11))\n",
        "print(type(21.23))\n",
        "print(type(\"Hello, world!\"))"
      ],
      "metadata": {
        "colab": {
          "base_uri": "https://localhost:8080/"
        },
        "id": "2YjOT8j5Q0Q3",
        "outputId": "307ecec1-1b11-4e76-999c-0b86552b98f7"
      },
      "execution_count": 5,
      "outputs": [
        {
          "output_type": "stream",
          "name": "stdout",
          "text": [
            "<class 'int'>\n",
            "<class 'float'>\n",
            "<class 'str'>\n"
          ]
        }
      ]
    },
    {
      "cell_type": "code",
      "source": [
        "#casting\n",
        "print(float(2))\n",
        "print(int(1.1))\n",
        "print(int('1'))\n",
        "#error\n",
        "#print(int('A'))\n",
        "print(str(1.5))\n",
        "print(str(1))\n",
        "#Boolean -> True or False\n",
        "print(type(True))\n",
        "print(int(True))\n",
        "print(int(False))\n",
        "print(bool(1))\n",
        "print(bool(0))"
      ],
      "metadata": {
        "id": "o0gGf-CQXnT-",
        "outputId": "ec3d3374-036e-4e17-df8f-a99f59080f24",
        "colab": {
          "base_uri": "https://localhost:8080/"
        }
      },
      "execution_count": 13,
      "outputs": [
        {
          "output_type": "stream",
          "name": "stdout",
          "text": [
            "2.0\n",
            "1\n",
            "1\n",
            "1.5\n",
            "1\n",
            "<class 'bool'>\n",
            "1\n",
            "0\n",
            "True\n",
            "False\n"
          ]
        }
      ]
    },
    {
      "cell_type": "code",
      "source": [
        "#Expressions\n",
        "print(34+43*60/14-16)\n",
        "print(34+43*60//14-16)\n",
        "print(34+43*60//(14-16))\n",
        "#Variables\n",
        "my_variable = 1\n",
        "print(my_variable)\n",
        "x = 102 + 1 * 2\n",
        "print(x)"
      ],
      "metadata": {
        "id": "WZME1zRuZZ_s",
        "outputId": "63ae03c4-55fb-4cc2-f852-d72f45a31aaa",
        "colab": {
          "base_uri": "https://localhost:8080/"
        }
      },
      "execution_count": 24,
      "outputs": [
        {
          "output_type": "stream",
          "name": "stdout",
          "text": [
            "202.28571428571428\n",
            "202\n",
            "-1256\n",
            "1\n",
            "104\n"
          ]
        }
      ]
    }
  ]
}