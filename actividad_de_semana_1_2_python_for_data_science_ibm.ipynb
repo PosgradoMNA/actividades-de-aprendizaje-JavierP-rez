{
  "nbformat": 4,
  "nbformat_minor": 0,
  "metadata": {
    "colab": {
      "provenance": [],
      "authorship_tag": "ABX9TyPYPUN2cZJQT+CeaQYmOYHT",
      "include_colab_link": true
    },
    "kernelspec": {
      "name": "python3",
      "display_name": "Python 3"
    },
    "language_info": {
      "name": "python"
    }
  },
  "cells": [
    {
      "cell_type": "markdown",
      "metadata": {
        "id": "view-in-github",
        "colab_type": "text"
      },
      "source": [
        "<a href=\"https://colab.research.google.com/github/PosgradoMNA/actividades-de-aprendizaje-JavierP-rez/blob/main/actividad_de_semana_1_2_python_for_data_science_ibm.ipynb\" target=\"_parent\"><img src=\"https://colab.research.google.com/assets/colab-badge.svg\" alt=\"Open In Colab\"/></a>"
      ]
    },
    {
      "cell_type": "markdown",
      "source": [
        "# **Python for Data Science**\n",
        "\n",
        "\n",
        "---\n",
        "\n"
      ],
      "metadata": {
        "id": "-ZmNAM6G9scc"
      }
    },
    {
      "cell_type": "markdown",
      "source": [
        "Javier Pérez\n",
        "\n",
        "A01794233"
      ],
      "metadata": {
        "id": "P-f_TywRzhY9"
      }
    },
    {
      "cell_type": "markdown",
      "source": [
        "## Module 1 - Python Basics \n",
        "\n",
        "\n",
        "---\n",
        "\n"
      ],
      "metadata": {
        "id": "MqEoEMWUP48W"
      }
    },
    {
      "cell_type": "markdown",
      "source": [
        "### Statements\n",
        "\n",
        "\n",
        "---\n",
        "\n"
      ],
      "metadata": {
        "id": "_4z94bSlNKDo"
      }
    },
    {
      "cell_type": "code",
      "source": [
        "#Statement or expression\n",
        "#Syntatic error\n",
        "#Semantic error\n",
        "print(\"Hello\\nWorld!\")"
      ],
      "metadata": {
        "colab": {
          "base_uri": "https://localhost:8080/"
        },
        "id": "0NcjdY0UPkTq",
        "outputId": "92f34ecf-8603-40d3-ca50-04f9b6fb3d90"
      },
      "execution_count": null,
      "outputs": [
        {
          "output_type": "stream",
          "name": "stdout",
          "text": [
            "Hello\n",
            "World!\n"
          ]
        }
      ]
    },
    {
      "cell_type": "code",
      "source": [
        "#Types\n",
        "#int, float, string\n",
        "print(type(11))\n",
        "print(type(21.23))\n",
        "print(type(\"Hello, world!\"))"
      ],
      "metadata": {
        "colab": {
          "base_uri": "https://localhost:8080/"
        },
        "id": "2YjOT8j5Q0Q3",
        "outputId": "307ecec1-1b11-4e76-999c-0b86552b98f7"
      },
      "execution_count": null,
      "outputs": [
        {
          "output_type": "stream",
          "name": "stdout",
          "text": [
            "<class 'int'>\n",
            "<class 'float'>\n",
            "<class 'str'>\n"
          ]
        }
      ]
    },
    {
      "cell_type": "code",
      "source": [
        "#casting\n",
        "print(float(2))\n",
        "print(int(1.1))\n",
        "print(int('1'))\n",
        "#error\n",
        "#print(int('A'))\n",
        "print(str(1.5))\n",
        "print(str(1))\n",
        "#Boolean -> True or False\n",
        "print(type(True))\n",
        "print(int(True))\n",
        "print(int(False))\n",
        "print(bool(1))\n",
        "print(bool(0))"
      ],
      "metadata": {
        "colab": {
          "base_uri": "https://localhost:8080/"
        },
        "id": "o0gGf-CQXnT-",
        "outputId": "ec3d3374-036e-4e17-df8f-a99f59080f24"
      },
      "execution_count": null,
      "outputs": [
        {
          "output_type": "stream",
          "name": "stdout",
          "text": [
            "2.0\n",
            "1\n",
            "1\n",
            "1.5\n",
            "1\n",
            "<class 'bool'>\n",
            "1\n",
            "0\n",
            "True\n",
            "False\n"
          ]
        }
      ]
    },
    {
      "cell_type": "markdown",
      "source": [
        "### Expressions\n",
        "\n",
        "\n",
        "---\n",
        "\n"
      ],
      "metadata": {
        "id": "lD28yqNNNRRn"
      }
    },
    {
      "cell_type": "code",
      "source": [
        "#Expressions\n",
        "print(34+43*60/14-16)\n",
        "print(34+43*60//14-16)\n",
        "print(34+43*60//(14-16))\n",
        "#Variables\n",
        "my_variable = 1\n",
        "print(my_variable)\n",
        "x = 102 + 1 * 2\n",
        "print(x)"
      ],
      "metadata": {
        "colab": {
          "base_uri": "https://localhost:8080/"
        },
        "id": "WZME1zRuZZ_s",
        "outputId": "63ae03c4-55fb-4cc2-f852-d72f45a31aaa"
      },
      "execution_count": null,
      "outputs": [
        {
          "output_type": "stream",
          "name": "stdout",
          "text": [
            "202.28571428571428\n",
            "202\n",
            "-1256\n",
            "1\n",
            "104\n"
          ]
        }
      ]
    },
    {
      "cell_type": "markdown",
      "source": [
        "### Strings\n",
        "\n",
        "\n",
        "---\n",
        "\n"
      ],
      "metadata": {
        "id": "E-QUHhqJNVxk"
      }
    },
    {
      "cell_type": "code",
      "source": [
        "#String Operations\n",
        "#String\n",
        "name = 'Michael'\n",
        "print(name[0])\n",
        "print(name[2])\n",
        "print(name[-1])\n",
        "#Slicing\n",
        "print(name[1:4])\n",
        "#Concatenate\n",
        "word = 'Hello' + 'world'\n",
        "print(word)\n",
        "print(3 * \"name\")\n",
        "name = 'Michael'\n",
        "name = 'Michael' + \"J\"\n",
        "print(name)\n",
        "#Strings are immutable\n",
        "#\\n\n",
        "#\\t\n",
        "#\\\\\n",
        "#String methods\n",
        "A = \"example\"\n",
        "print(A.upper())\n",
        "print(A.replace('a','b'))\n",
        "print(A.find('p'))\n",
        "print(A.find('z'))\n",
        "\n"
      ],
      "metadata": {
        "colab": {
          "base_uri": "https://localhost:8080/"
        },
        "id": "DHiNH_NJb0u_",
        "outputId": "c514fa7a-18c0-45e1-b15c-8b5fa07c4e6d"
      },
      "execution_count": null,
      "outputs": [
        {
          "output_type": "stream",
          "name": "stdout",
          "text": [
            "M\n",
            "c\n",
            "l\n",
            "ich\n",
            "Helloworld\n",
            "namenamename\n",
            "MichaelJ\n",
            "EXAMPLE\n",
            "exbmple\n",
            "4\n",
            "-1\n"
          ]
        }
      ]
    },
    {
      "cell_type": "markdown",
      "source": [
        "## Module 2 - Python Data Structures \n",
        "\n",
        "\n",
        "---\n",
        "\n",
        "\n"
      ],
      "metadata": {
        "id": "PDoPBgMPhaNE"
      }
    },
    {
      "cell_type": "markdown",
      "source": [
        "### Tuples\n",
        "\n",
        "\n",
        "---\n",
        "\n"
      ],
      "metadata": {
        "id": "1_8GqWlRM0-j"
      }
    },
    {
      "cell_type": "code",
      "source": [
        "#Lists and Tuples\n",
        "#These are called compound data types\n",
        "#Tuples - order sequence\n",
        "ratings = (10, 9, 6, 5, 10, 8, 9, 6, 2)\n",
        "print(ratings)\n",
        "tuple1 = ('disco', 10, 1.2)\n",
        "#Type of the element is a tuple\n",
        "print(type(tuple1))\n",
        "#Access an element of the tuple with index\n",
        "print(ratings[1])\n",
        "print(ratings[-1])\n",
        "#Concatenate\n",
        "tuple2 = tuple1 + (\"hw\", 10)\n",
        "print(tuple2)\n",
        "#Slice\n",
        "print(tuple2[0:3])\n",
        "print(tuple2[3:5])\n",
        "print(len(tuple2))\n",
        "#Tuples are immutable\n",
        "ratings1 = ratings #References the same immutable tuple object\n",
        "ratings = (2, 10, 1)\n",
        "print(ratings1)\n",
        "print(ratings)\n",
        "Ratings_sorted = sorted(ratings1)\n",
        "print(Ratings_sorted)\n",
        "#nesting\n",
        "#See as a tree\n",
        "nt = ((1,2,3), 3,4)\n",
        "print(nt[0])\n",
        "print(nt[0][1])\n"
      ],
      "metadata": {
        "colab": {
          "base_uri": "https://localhost:8080/"
        },
        "id": "EXDiSVHuj1DD",
        "outputId": "657871e7-765e-4312-bf4a-5a254b45c6bd"
      },
      "execution_count": null,
      "outputs": [
        {
          "output_type": "stream",
          "name": "stdout",
          "text": [
            "(10, 9, 6, 5, 10, 8, 9, 6, 2)\n",
            "<class 'tuple'>\n",
            "9\n",
            "2\n",
            "('disco', 10, 1.2, 'hw', 10)\n",
            "('disco', 10, 1.2)\n",
            "('hw', 10)\n",
            "5\n",
            "(10, 9, 6, 5, 10, 8, 9, 6, 2)\n",
            "(2, 10, 1)\n",
            "[2, 5, 6, 6, 8, 9, 9, 10, 10]\n",
            "(1, 2, 3)\n",
            "2\n"
          ]
        }
      ]
    },
    {
      "cell_type": "markdown",
      "source": [
        "### List\n",
        "\n",
        "\n",
        "---\n",
        "\n"
      ],
      "metadata": {
        "id": "IiIpwa54M7VD"
      }
    },
    {
      "cell_type": "code",
      "source": [
        "#List\n",
        "#ordered sequence - mutable\n",
        "l = [\"MJ\", 10.1, 12, [1,3], (5,6)]\n",
        "print(l[3])\n",
        "print(l[-1])\n",
        "print(l[1:3])#slicing\n",
        "l.extend([\"hello\", 1, 2])\n",
        "print(l)\n",
        "l.append(\"a\")\n",
        "print(l)\n",
        "#change\n",
        "a = [\"d\", 10, 1.2]\n",
        "a[0] = 'c'\n",
        "print(a)\n",
        "#delete\n",
        "del(a[1])\n",
        "print(a)\n",
        "#String to a list\n",
        "s = 'hello, world!'\n",
        "print(s.split())\n",
        "s = 'h,e,l,l,o,w,o,r,l,d'\n",
        "print(s.split(','))\n",
        "b = a[:]\n",
        "print(b)\n",
        "help(a)"
      ],
      "metadata": {
        "colab": {
          "base_uri": "https://localhost:8080/"
        },
        "id": "PEa5HkhcIBb6",
        "outputId": "61b2ac46-272a-4e62-995e-d3d0b65a044d"
      },
      "execution_count": null,
      "outputs": [
        {
          "output_type": "stream",
          "name": "stdout",
          "text": [
            "[1, 3]\n",
            "(5, 6)\n",
            "[10.1, 12]\n",
            "['MJ', 10.1, 12, [1, 3], (5, 6), 'hello', 1, 2]\n",
            "['MJ', 10.1, 12, [1, 3], (5, 6), 'hello', 1, 2, 'a']\n",
            "['c', 10, 1.2]\n",
            "['c', 1.2]\n",
            "['hello,', 'world!']\n",
            "['h', 'e', 'l', 'l', 'o', 'w', 'o', 'r', 'l', 'd']\n",
            "['c', 1.2]\n",
            "Help on list object:\n",
            "\n",
            "class list(object)\n",
            " |  list(iterable=(), /)\n",
            " |  \n",
            " |  Built-in mutable sequence.\n",
            " |  \n",
            " |  If no argument is given, the constructor creates a new empty list.\n",
            " |  The argument must be an iterable if specified.\n",
            " |  \n",
            " |  Methods defined here:\n",
            " |  \n",
            " |  __add__(self, value, /)\n",
            " |      Return self+value.\n",
            " |  \n",
            " |  __contains__(self, key, /)\n",
            " |      Return key in self.\n",
            " |  \n",
            " |  __delitem__(self, key, /)\n",
            " |      Delete self[key].\n",
            " |  \n",
            " |  __eq__(self, value, /)\n",
            " |      Return self==value.\n",
            " |  \n",
            " |  __ge__(self, value, /)\n",
            " |      Return self>=value.\n",
            " |  \n",
            " |  __getattribute__(self, name, /)\n",
            " |      Return getattr(self, name).\n",
            " |  \n",
            " |  __getitem__(...)\n",
            " |      x.__getitem__(y) <==> x[y]\n",
            " |  \n",
            " |  __gt__(self, value, /)\n",
            " |      Return self>value.\n",
            " |  \n",
            " |  __iadd__(self, value, /)\n",
            " |      Implement self+=value.\n",
            " |  \n",
            " |  __imul__(self, value, /)\n",
            " |      Implement self*=value.\n",
            " |  \n",
            " |  __init__(self, /, *args, **kwargs)\n",
            " |      Initialize self.  See help(type(self)) for accurate signature.\n",
            " |  \n",
            " |  __iter__(self, /)\n",
            " |      Implement iter(self).\n",
            " |  \n",
            " |  __le__(self, value, /)\n",
            " |      Return self<=value.\n",
            " |  \n",
            " |  __len__(self, /)\n",
            " |      Return len(self).\n",
            " |  \n",
            " |  __lt__(self, value, /)\n",
            " |      Return self<value.\n",
            " |  \n",
            " |  __mul__(self, value, /)\n",
            " |      Return self*value.\n",
            " |  \n",
            " |  __ne__(self, value, /)\n",
            " |      Return self!=value.\n",
            " |  \n",
            " |  __repr__(self, /)\n",
            " |      Return repr(self).\n",
            " |  \n",
            " |  __reversed__(self, /)\n",
            " |      Return a reverse iterator over the list.\n",
            " |  \n",
            " |  __rmul__(self, value, /)\n",
            " |      Return value*self.\n",
            " |  \n",
            " |  __setitem__(self, key, value, /)\n",
            " |      Set self[key] to value.\n",
            " |  \n",
            " |  __sizeof__(self, /)\n",
            " |      Return the size of the list in memory, in bytes.\n",
            " |  \n",
            " |  append(self, object, /)\n",
            " |      Append object to the end of the list.\n",
            " |  \n",
            " |  clear(self, /)\n",
            " |      Remove all items from list.\n",
            " |  \n",
            " |  copy(self, /)\n",
            " |      Return a shallow copy of the list.\n",
            " |  \n",
            " |  count(self, value, /)\n",
            " |      Return number of occurrences of value.\n",
            " |  \n",
            " |  extend(self, iterable, /)\n",
            " |      Extend list by appending elements from the iterable.\n",
            " |  \n",
            " |  index(self, value, start=0, stop=9223372036854775807, /)\n",
            " |      Return first index of value.\n",
            " |      \n",
            " |      Raises ValueError if the value is not present.\n",
            " |  \n",
            " |  insert(self, index, object, /)\n",
            " |      Insert object before index.\n",
            " |  \n",
            " |  pop(self, index=-1, /)\n",
            " |      Remove and return item at index (default last).\n",
            " |      \n",
            " |      Raises IndexError if list is empty or index is out of range.\n",
            " |  \n",
            " |  remove(self, value, /)\n",
            " |      Remove first occurrence of value.\n",
            " |      \n",
            " |      Raises ValueError if the value is not present.\n",
            " |  \n",
            " |  reverse(self, /)\n",
            " |      Reverse *IN PLACE*.\n",
            " |  \n",
            " |  sort(self, /, *, key=None, reverse=False)\n",
            " |      Stable sort *IN PLACE*.\n",
            " |  \n",
            " |  ----------------------------------------------------------------------\n",
            " |  Static methods defined here:\n",
            " |  \n",
            " |  __new__(*args, **kwargs) from builtins.type\n",
            " |      Create and return a new object.  See help(type) for accurate signature.\n",
            " |  \n",
            " |  ----------------------------------------------------------------------\n",
            " |  Data and other attributes defined here:\n",
            " |  \n",
            " |  __hash__ = None\n",
            "\n"
          ]
        }
      ]
    },
    {
      "cell_type": "markdown",
      "source": [
        "### Sets\n",
        "\n",
        "\n",
        "---\n",
        "\n"
      ],
      "metadata": {
        "id": "EdX_IjIVNAJw"
      }
    },
    {
      "cell_type": "code",
      "source": [
        "#Type of collection. \n",
        "#Unordered. \n",
        "#Unique elemens. \n",
        "set1 = {'pop', 'rock', 'soul', 'hard rock', 'rock', 'R&B', 'rock', 'disco', 'art'}\n",
        "print(set1)\n",
        "#type-casting\n",
        "l = [\"MJ\", \"t\", \"t\", 1902]\n",
        "set(l)\n",
        "#set operations\n",
        "A = {\"Thriller\", \"Back in Black\", \"AC/DC\"}\n",
        "print(A)\n",
        "A.add(\"NSYNC\")\n",
        "print(A)\n",
        "A.remove(\"NSYNC\")\n",
        "print(A)\n",
        "print(\"AC/DC\" in A)\n",
        "#Math operations\n",
        "A = {\"Thriller\", \"Back in Black\", \"AC/DC\", \"a\"}\n",
        "B = {\"Thriller\", \"AC/DC\", \"a\", \"b\"}\n",
        "print(A & B)\n",
        "print(A.union(B))\n",
        "print(B.issubset(A))\n"
      ],
      "metadata": {
        "colab": {
          "base_uri": "https://localhost:8080/"
        },
        "id": "5p_i-m75NFVi",
        "outputId": "354a14fb-ab3e-4573-8ae8-72b31cb3b939"
      },
      "execution_count": null,
      "outputs": [
        {
          "output_type": "stream",
          "name": "stdout",
          "text": [
            "{'hard rock', 'R&B', 'rock', 'soul', 'disco', 'pop', 'art'}\n",
            "{'AC/DC', 'Back in Black', 'Thriller'}\n",
            "{'NSYNC', 'AC/DC', 'Back in Black', 'Thriller'}\n",
            "{'AC/DC', 'Back in Black', 'Thriller'}\n",
            "True\n",
            "{'a', 'AC/DC', 'Thriller'}\n",
            "{'AC/DC', 'Thriller', 'Back in Black', 'b', 'a'}\n",
            "False\n"
          ]
        }
      ]
    },
    {
      "cell_type": "markdown",
      "source": [
        "### Dictionaries\n",
        "\n",
        "\n",
        "---\n",
        "\n"
      ],
      "metadata": {
        "id": "5AjjsMBfYMu3"
      }
    },
    {
      "cell_type": "code",
      "source": [
        "#Dictionaries\n",
        "#Type of collection\n",
        "#Keys and values\n",
        "di = {\"one\":\"uno\", \"two\":\"dos\", \"three\":\"tres\"}\n",
        "print(di[\"one\"])\n",
        "di[\"four\"] = \"cuatro\"\n",
        "print(di)\n",
        "del(di[\"two\"])\n",
        "print(di)\n",
        "print(\"one\" in di)\n",
        "print(di.keys())\n",
        "print(di.values())"
      ],
      "metadata": {
        "colab": {
          "base_uri": "https://localhost:8080/"
        },
        "id": "J6_hs2UtYVPG",
        "outputId": "50060101-69e0-424e-d3e3-e7c43e587f45"
      },
      "execution_count": null,
      "outputs": [
        {
          "output_type": "stream",
          "name": "stdout",
          "text": [
            "uno\n",
            "{'one': 'uno', 'two': 'dos', 'three': 'tres', 'four': 'cuatro'}\n",
            "{'one': 'uno', 'three': 'tres', 'four': 'cuatro'}\n",
            "True\n",
            "dict_keys(['one', 'three', 'four'])\n",
            "dict_values(['uno', 'tres', 'cuatro'])\n"
          ]
        }
      ]
    },
    {
      "cell_type": "markdown",
      "source": [
        "## Module 3 - Python Programming \n",
        "\n",
        "\n",
        "---\n",
        "\n"
      ],
      "metadata": {
        "id": "FXEie2YxbYwq"
      }
    },
    {
      "cell_type": "markdown",
      "source": [
        "### Conditions and Branching\n",
        "\n",
        "\n",
        "---\n",
        "\n"
      ],
      "metadata": {
        "id": "gQ1SatSRbzo3"
      }
    },
    {
      "cell_type": "code",
      "source": [
        "#All type of data\n",
        "#Conditions\n",
        "a = 6\n",
        "b = 7\n",
        "print(a==b)\n",
        "print(a>5)\n",
        "print(b<8)\n",
        "print(a!=6)\n",
        "#Strings as well\n",
        "str1 = \"MJ\"\n",
        "str2 = \"ACDC\"\n",
        "print(str1 == str2)\n",
        "print(str1 != str2)"
      ],
      "metadata": {
        "colab": {
          "base_uri": "https://localhost:8080/"
        },
        "id": "WNMN2aS_bpOu",
        "outputId": "ee6cedf8-8632-4964-a196-b70766e12f76"
      },
      "execution_count": null,
      "outputs": [
        {
          "output_type": "stream",
          "name": "stdout",
          "text": [
            "False\n",
            "True\n",
            "True\n",
            "False\n",
            "False\n",
            "True\n"
          ]
        }
      ]
    },
    {
      "cell_type": "code",
      "source": [
        "#Branching\n",
        "age = 18\n",
        "#age = 19\n",
        "\n",
        "if age > 18:\n",
        "  print(\"You can enter\")\n",
        "\n",
        "print(\"Move on\")\n",
        "\n",
        "#--Another example\n",
        "age = 18\n",
        "#age = 19\n",
        "\n",
        "if age > 18:\n",
        "  print(\"You can enter\")\n",
        "\n",
        "else:\n",
        "  print(\"Go see Meat Loaf\")\n",
        "\n",
        "print(\"Move on\")\n",
        "\n",
        "#---Other example\n",
        "\n",
        "age = 18\n",
        "#age = 19\n",
        "\n",
        "if age > 18:\n",
        "  print(\"You can enter\")\n",
        "\n",
        "elif age == 18:\n",
        "  print(\"Go see Pink Floyd\")\n",
        "\n",
        "else:\n",
        "  print(\"Go see Meat Loaf\")\n",
        "\n",
        "print(\"Move on\")\n",
        "\n",
        "#Logic operators\n",
        "print(not(False))\n",
        "print(False or True)\n",
        "\n",
        "album_year = 1990\n",
        "\n",
        "if(album_year < 1980) or (album_year > 1989):\n",
        "  print(\"The Album was made in the 70's or 90's\")\n",
        "else:\n",
        "  print(\"The Album was made in the 1980's\")\n",
        "\n",
        "print(True and True)\n",
        "\n",
        "album_year = 1983\n",
        "\n",
        "if(album_year > 1979) and (album_year < 1990):\n",
        "  print(\"The Album was made in the 80's\")"
      ],
      "metadata": {
        "colab": {
          "base_uri": "https://localhost:8080/"
        },
        "id": "xHYvt3juPKqU",
        "outputId": "ef3f23cd-2c87-498d-f184-46736cf91340"
      },
      "execution_count": null,
      "outputs": [
        {
          "output_type": "stream",
          "name": "stdout",
          "text": [
            "Move on\n",
            "Go see Meat Loaf\n",
            "Move on\n",
            "Go see Pink Floyd\n",
            "Move on\n",
            "True\n",
            "True\n",
            "The Album was made in the 70's or 90's\n",
            "True\n",
            "The Album was made in the 80's\n"
          ]
        }
      ]
    },
    {
      "cell_type": "markdown",
      "source": [
        "### Loops\n",
        "\n",
        "\n",
        "---\n",
        "\n"
      ],
      "metadata": {
        "id": "6xBy9Y2FUjTY"
      }
    },
    {
      "cell_type": "code",
      "source": [
        "#Loops\n",
        "#For loops\n",
        "\n",
        "#range(5) = [0, 1, 2, 3, 4]\n",
        "\n",
        "squares = ['red', 'yellow', 'green', 'purple', 'blue']\n",
        "print(squares)\n",
        "\n",
        "for i in range(len(squares)):\n",
        "  squares[i] = \"white\"\n",
        "\n",
        "print(squares)\n",
        "\n",
        "\n",
        "squares = ['red', 'yellow', 'green', 'purple', 'blue']\n",
        "\n",
        "for i in squares:\n",
        "  print(i)\n",
        "\n",
        "for i,square in enumerate(squares):\n",
        "  print(i, square)\n",
        "\n",
        "#While loops\n",
        "\n",
        "squares = [\"orange\", \"orange\", \"purple\", \"blue\"]\n",
        "new_squares = []\n",
        "\n",
        "i = 0\n",
        "\n",
        "while squares[i] == \"orange\":\n",
        "  new_squares.append(squares[i])\n",
        "  i = i + 1\n",
        "\n",
        "print(new_squares)"
      ],
      "metadata": {
        "id": "tl9Vj6gYUmcZ",
        "outputId": "741edea1-7553-4033-bfa2-e7106010aab8",
        "colab": {
          "base_uri": "https://localhost:8080/"
        }
      },
      "execution_count": null,
      "outputs": [
        {
          "output_type": "stream",
          "name": "stdout",
          "text": [
            "['red', 'yellow', 'green', 'purple', 'blue']\n",
            "['white', 'white', 'white', 'white', 'white']\n",
            "red\n",
            "yellow\n",
            "green\n",
            "purple\n",
            "blue\n",
            "0 red\n",
            "1 yellow\n",
            "2 green\n",
            "3 purple\n",
            "4 blue\n",
            "['orange', 'orange']\n"
          ]
        }
      ]
    },
    {
      "cell_type": "markdown",
      "source": [
        "### Functions\n",
        "\n",
        "\n",
        "---\n",
        "\n"
      ],
      "metadata": {
        "id": "j3qXPXgBGMBG"
      }
    },
    {
      "cell_type": "code",
      "source": [
        "#Functions\n",
        "#Python built-in functions\n",
        "l = [10, 2, 4, 5, 3, 1]\n",
        "print(len(l))\n",
        "print(sum(l))\n",
        "sorted_l = sorted(l)\n",
        "print(sorted_l)\n",
        "print(l)\n",
        "l.sort()\n",
        "print(l)\n",
        "#Build or own functions\n",
        "def add1(a):\n",
        "  \"\"\"\n",
        "  add 1 to a\n",
        "  \"\"\"\n",
        "  b = a + 1\n",
        "  return b\n",
        "\n",
        "print(add1(9))\n",
        "c = add1(4)\n",
        "print(c)\n",
        "help(add1)\n",
        "#..........................\n",
        "\n",
        "def Mult(a,b):\n",
        "  c = a * b\n",
        "  return c\n",
        "\n",
        "print(Mult(5,4))\n",
        "\n",
        "#---------------------------\n",
        "\n",
        "def hi():\n",
        "  print(\"Hello, my friend!\")\n",
        "\n",
        "hi()\n",
        "\n",
        "#----------------------------\n",
        "def NoWork():\n",
        "  pass\n",
        "\n",
        "print(NoWork())\n",
        "\n",
        "#/////////////////////////////\n",
        "def Op(a):\n",
        "  b = a + 1\n",
        "  print(a, \"plus 1 equals\", b)\n",
        "  return b\n",
        "\n",
        "print(Op(8))\n",
        "\n",
        "def opl(it):\n",
        "  for i,s in enumerate(it):\n",
        "    print(\"Album\", i, \"Rating is\", s)\n",
        "\n",
        "opl([1, 2, 3])\n",
        "\n",
        "def ArtistNames(*names):\n",
        "  for name in names:\n",
        "    print(name)\n",
        "\n",
        "ArtistNames(\"h\", \"e\", \"l\", \"l\")\n",
        "ArtistNames(\"h\", \"e\", \"l\")\n",
        "\n",
        "\n",
        "def AddDC(y):\n",
        "  x = y + \"DC\"\n",
        "  print(x)\n",
        "  return(x)\n",
        "\n",
        "x = \"AC\"\n",
        "z = AddDC(x)\n",
        "\n",
        "def Thriller():\n",
        "  date = 1982\n",
        "  return(date)\n",
        "\n",
        "date = 2017\n",
        "print(Thriller())\n",
        "print(date)\n",
        "\n",
        "def ACDC(y):\n",
        "  print(Rating)\n",
        "  return(Rating+y)\n",
        "\n",
        "Rating = 9\n",
        "Z = ACDC(1)\n",
        "print(Rating)\n",
        "\n",
        "def PinkFloyd():\n",
        "  global ClaimedSales#Global variable\n",
        "  ClaimedSales = \"45 million\"\n",
        "  return ClaimedSales\n",
        "\n",
        "PinkFloyd()\n",
        "print(ClaimedSales)\n",
        "\n",
        "\n",
        "\n"
      ],
      "metadata": {
        "id": "9_RqpvV8GR7n",
        "outputId": "d02c1947-fd3e-4f02-b1af-87a64899336e",
        "colab": {
          "base_uri": "https://localhost:8080/"
        }
      },
      "execution_count": null,
      "outputs": [
        {
          "output_type": "stream",
          "name": "stdout",
          "text": [
            "6\n",
            "25\n",
            "[1, 2, 3, 4, 5, 10]\n",
            "[10, 2, 4, 5, 3, 1]\n",
            "[1, 2, 3, 4, 5, 10]\n",
            "10\n",
            "5\n",
            "Help on function add1 in module __main__:\n",
            "\n",
            "add1(a)\n",
            "    add 1 to a\n",
            "\n",
            "20\n",
            "Hello, my friend!\n",
            "None\n",
            "8 plus 1 equals 9\n",
            "9\n",
            "Album 0 Rating is 1\n",
            "Album 1 Rating is 2\n",
            "Album 2 Rating is 3\n",
            "h\n",
            "e\n",
            "l\n",
            "l\n",
            "h\n",
            "e\n",
            "l\n",
            "ACDC\n",
            "1982\n",
            "2017\n",
            "9\n",
            "9\n",
            "45 million\n"
          ]
        }
      ]
    },
    {
      "cell_type": "markdown",
      "source": [
        "### Objects and classes\n",
        "\n",
        "\n",
        "---\n",
        "\n"
      ],
      "metadata": {
        "id": "neIUPzXiZlfh"
      }
    },
    {
      "cell_type": "code",
      "source": [
        "#Objects and classes\n",
        "#What is an object\n",
        "print(type(\"s\"))\n",
        "print(type(1))\n",
        "print(type([1,2,3]))\n",
        "\n",
        "r = [10, 8, 4, 2, 1, 9, 3, 1]\n",
        "print(r)\n",
        "r.sort()\n",
        "print(r)\n",
        "r.reverse()\n",
        "print(r)\n",
        "\n",
        "class Circle(object):\n",
        "  def __init__(self, radius, color):\n",
        "    self.radius = radius\n",
        "    self.color = color\n",
        "\n",
        "  def add_radius(self,r):\n",
        "    self.radius = self.radius + r\n",
        "\n",
        "\n",
        "class Rectangle(object):\n",
        "  def __init__(self, height, width, color=\"blue\"):\n",
        "    self.height = height\n",
        "    self.width = width\n",
        "    self.color = color\n",
        "\n",
        "RedCircle = Circle(10, \"red\")\n",
        "print(RedCircle.radius)\n",
        "print(RedCircle.color)\n",
        "\n",
        "RedCircle.radius = 30\n",
        "\n",
        "C1 = Circle(2, 'red')\n",
        "C1.add_radius(5)\n",
        "print(C1.radius)\n",
        "\n",
        "print(dir(\"s\"))\n",
        "\n",
        "\n",
        "\n",
        "\n",
        "\n"
      ],
      "metadata": {
        "id": "d6bQI-0QaGJ5",
        "outputId": "2d2c2262-d505-4f10-9e8d-45e1f5f0b74a",
        "colab": {
          "base_uri": "https://localhost:8080/"
        }
      },
      "execution_count": 11,
      "outputs": [
        {
          "output_type": "stream",
          "name": "stdout",
          "text": [
            "<class 'str'>\n",
            "<class 'int'>\n",
            "<class 'list'>\n",
            "[10, 8, 4, 2, 1, 9, 3, 1]\n",
            "[1, 1, 2, 3, 4, 8, 9, 10]\n",
            "[10, 9, 8, 4, 3, 2, 1, 1]\n",
            "10\n",
            "red\n",
            "7\n",
            "['__add__', '__class__', '__contains__', '__delattr__', '__dir__', '__doc__', '__eq__', '__format__', '__ge__', '__getattribute__', '__getitem__', '__getnewargs__', '__gt__', '__hash__', '__init__', '__init_subclass__', '__iter__', '__le__', '__len__', '__lt__', '__mod__', '__mul__', '__ne__', '__new__', '__reduce__', '__reduce_ex__', '__repr__', '__rmod__', '__rmul__', '__setattr__', '__sizeof__', '__str__', '__subclasshook__', 'capitalize', 'casefold', 'center', 'count', 'encode', 'endswith', 'expandtabs', 'find', 'format', 'format_map', 'index', 'isalnum', 'isalpha', 'isascii', 'isdecimal', 'isdigit', 'isidentifier', 'islower', 'isnumeric', 'isprintable', 'isspace', 'istitle', 'isupper', 'join', 'ljust', 'lower', 'lstrip', 'maketrans', 'partition', 'replace', 'rfind', 'rindex', 'rjust', 'rpartition', 'rsplit', 'rstrip', 'split', 'splitlines', 'startswith', 'strip', 'swapcase', 'title', 'translate', 'upper', 'zfill']\n"
          ]
        }
      ]
    }
  ]
}