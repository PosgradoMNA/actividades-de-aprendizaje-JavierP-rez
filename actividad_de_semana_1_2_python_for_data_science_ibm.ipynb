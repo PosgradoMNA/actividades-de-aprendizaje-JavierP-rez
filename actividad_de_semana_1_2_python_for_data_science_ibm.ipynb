{
  "nbformat": 4,
  "nbformat_minor": 0,
  "metadata": {
    "colab": {
      "provenance": [],
      "authorship_tag": "ABX9TyPh7NEIaCgzO3Pk+r/8Qgao",
      "include_colab_link": true
    },
    "kernelspec": {
      "name": "python3",
      "display_name": "Python 3"
    },
    "language_info": {
      "name": "python"
    }
  },
  "cells": [
    {
      "cell_type": "markdown",
      "metadata": {
        "id": "view-in-github",
        "colab_type": "text"
      },
      "source": [
        "<a href=\"https://colab.research.google.com/github/PosgradoMNA/actividades-de-aprendizaje-JavierP-rez/blob/main/actividad_de_semana_1_2_python_for_data_science_ibm.ipynb\" target=\"_parent\"><img src=\"https://colab.research.google.com/assets/colab-badge.svg\" alt=\"Open In Colab\"/></a>"
      ]
    },
    {
      "cell_type": "markdown",
      "source": [
        "Python for Data Science\n",
        "Python is a general purpose programming language"
      ],
      "metadata": {
        "id": "-ZmNAM6G9scc"
      }
    }
  ]
}