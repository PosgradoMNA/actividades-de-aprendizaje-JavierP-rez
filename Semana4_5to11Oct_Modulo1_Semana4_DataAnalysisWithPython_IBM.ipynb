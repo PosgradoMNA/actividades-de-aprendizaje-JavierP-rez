{
  "nbformat": 4,
  "nbformat_minor": 0,
  "metadata": {
    "colab": {
      "provenance": [],
      "authorship_tag": "ABX9TyO+wBFPCCUVP4lV9S54WSJa",
      "include_colab_link": true
    },
    "kernelspec": {
      "name": "python3",
      "display_name": "Python 3"
    },
    "language_info": {
      "name": "python"
    }
  },
  "cells": [
    {
      "cell_type": "markdown",
      "metadata": {
        "id": "view-in-github",
        "colab_type": "text"
      },
      "source": [
        "<a href=\"https://colab.research.google.com/github/PosgradoMNA/actividades-de-aprendizaje-JavierP-rez/blob/main/Semana4_5to11Oct_Modulo1_Semana4_DataAnalysisWithPython_IBM.ipynb\" target=\"_parent\"><img src=\"https://colab.research.google.com/assets/colab-badge.svg\" alt=\"Open In Colab\"/></a>"
      ]
    },
    {
      "cell_type": "markdown",
      "source": [
        "# Data Analysis with Python\n",
        "\n",
        "\n",
        "\n",
        "---\n",
        "\n",
        "\n",
        "\n",
        "---\n",
        "\n"
      ],
      "metadata": {
        "id": "5NsarPWlL98q"
      }
    },
    {
      "cell_type": "markdown",
      "source": [
        "## Module 1 - Introduction\n",
        "\n",
        "\n",
        "---\n",
        "\n"
      ],
      "metadata": {
        "id": "Hd5021R8MBmL"
      }
    },
    {
      "cell_type": "markdown",
      "source": [
        "Introduction to Data Analysis with Python"
      ],
      "metadata": {
        "id": "ad4-vn3lMGSZ"
      }
    },
    {
      "cell_type": "markdown",
      "source": [
        "The Problem"
      ],
      "metadata": {
        "id": "0hRsq4g0MSFv"
      }
    },
    {
      "cell_type": "markdown",
      "source": [
        "Understanding the Data"
      ],
      "metadata": {
        "id": "ezvFtxEbMT0x"
      }
    },
    {
      "cell_type": "markdown",
      "source": [
        "Python Packages for Data Science"
      ],
      "metadata": {
        "id": "RqaPveKiMVS7"
      }
    },
    {
      "cell_type": "markdown",
      "source": [
        "Importing and Exporting Data in Python"
      ],
      "metadata": {
        "id": "961Eu-7ZMW4s"
      }
    },
    {
      "cell_type": "markdown",
      "source": [
        "Getting Started Analyzing Data in Python"
      ],
      "metadata": {
        "id": "L45rBVXLMYlR"
      }
    },
    {
      "cell_type": "markdown",
      "source": [
        "Lab 1"
      ],
      "metadata": {
        "id": "Qg-SPNedMaeD"
      }
    }
  ]
}