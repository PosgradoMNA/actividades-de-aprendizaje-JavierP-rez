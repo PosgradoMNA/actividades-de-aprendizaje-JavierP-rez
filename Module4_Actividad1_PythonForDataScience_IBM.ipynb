{
  "nbformat": 4,
  "nbformat_minor": 0,
  "metadata": {
    "colab": {
      "provenance": [],
      "authorship_tag": "ABX9TyMwx9/kWHDcOhGXtHBNXg2h",
      "include_colab_link": true
    },
    "kernelspec": {
      "name": "python3",
      "display_name": "Python 3"
    },
    "language_info": {
      "name": "python"
    }
  },
  "cells": [
    {
      "cell_type": "markdown",
      "metadata": {
        "id": "view-in-github",
        "colab_type": "text"
      },
      "source": [
        "<a href=\"https://colab.research.google.com/github/PosgradoMNA/actividades-de-aprendizaje-JavierP-rez/blob/main/Module4_Actividad1_PythonForDataScience_IBM.ipynb\" target=\"_parent\"><img src=\"https://colab.research.google.com/assets/colab-badge.svg\" alt=\"Open In Colab\"/></a>"
      ]
    },
    {
      "cell_type": "markdown",
      "source": [
        "# Python for Data Science\n",
        "\n",
        "\n",
        "\n",
        "---\n",
        "\n",
        "\n",
        "\n",
        "---\n",
        "\n"
      ],
      "metadata": {
        "id": "OGuAmZrd1J_9"
      }
    },
    {
      "cell_type": "markdown",
      "source": [
        "Javier Pérez \n",
        "\n",
        "A01794233\n",
        "\n",
        "\n",
        "---\n",
        "\n"
      ],
      "metadata": {
        "id": "9LwUFFFc1vbt"
      }
    },
    {
      "cell_type": "markdown",
      "source": [
        "## Module 4 - Working with Data in Python\n",
        "\n",
        "\n",
        "---\n",
        "\n"
      ],
      "metadata": {
        "id": "uUNx2zw81SS8"
      }
    },
    {
      "cell_type": "markdown",
      "source": [
        "### Reading Files with Open\n",
        "\n",
        "\n",
        "---\n",
        "\n"
      ],
      "metadata": {
        "id": "7xvbJE2d2SU3"
      }
    },
    {
      "cell_type": "code",
      "execution_count": null,
      "metadata": {
        "id": "ezUyFDlo1Bf-"
      },
      "outputs": [],
      "source": []
    }
  ]
}