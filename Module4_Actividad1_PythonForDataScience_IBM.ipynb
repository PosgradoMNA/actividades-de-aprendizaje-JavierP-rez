{
  "nbformat": 4,
  "nbformat_minor": 0,
  "metadata": {
    "colab": {
      "provenance": [],
      "authorship_tag": "ABX9TyP3fWH5hL6ToKQ44IjOg1FS",
      "include_colab_link": true
    },
    "kernelspec": {
      "name": "python3",
      "display_name": "Python 3"
    },
    "language_info": {
      "name": "python"
    }
  },
  "cells": [
    {
      "cell_type": "markdown",
      "metadata": {
        "id": "view-in-github",
        "colab_type": "text"
      },
      "source": [
        "<a href=\"https://colab.research.google.com/github/PosgradoMNA/actividades-de-aprendizaje-JavierP-rez/blob/main/Module4_Actividad1_PythonForDataScience_IBM.ipynb\" target=\"_parent\"><img src=\"https://colab.research.google.com/assets/colab-badge.svg\" alt=\"Open In Colab\"/></a>"
      ]
    },
    {
      "cell_type": "markdown",
      "source": [
        "# Python for Data Science\n",
        "\n",
        "\n",
        "\n",
        "---\n",
        "\n",
        "\n",
        "\n",
        "---\n",
        "\n"
      ],
      "metadata": {
        "id": "OGuAmZrd1J_9"
      }
    },
    {
      "cell_type": "markdown",
      "source": [
        "Javier Pérez \n",
        "\n",
        "A01794233\n",
        "\n",
        "\n",
        "---\n",
        "\n"
      ],
      "metadata": {
        "id": "9LwUFFFc1vbt"
      }
    },
    {
      "cell_type": "markdown",
      "source": [
        "## Module 4 - Working with Data in Python\n",
        "\n",
        "\n",
        "---\n",
        "\n"
      ],
      "metadata": {
        "id": "uUNx2zw81SS8"
      }
    },
    {
      "cell_type": "markdown",
      "source": [
        "### Reading Files with Open\n",
        "\n",
        "\n",
        "---\n",
        "\n"
      ],
      "metadata": {
        "id": "7xvbJE2d2SU3"
      }
    },
    {
      "cell_type": "code",
      "execution_count": null,
      "metadata": {
        "colab": {
          "base_uri": "https://localhost:8080/"
        },
        "id": "ezUyFDlo1Bf-",
        "outputId": "1d3bbede-5291-4aae-fee0-924b0ec5656e"
      },
      "outputs": [
        {
          "output_type": "stream",
          "name": "stdout",
          "text": [
            "Mounted at /content/gdrive\n",
            "cat: '/content/gdrive/My Drive/output.txt': No such file or directory\n"
          ]
        }
      ],
      "source": [
        "#Google Drive file I/O with Google Colaboratory\n",
        "# mount Google Drive\n",
        "from google.colab import drive\n",
        "drive.mount('/content/gdrive')\n",
        "\n",
        "gdrive_path = '/content/gdrive/My Drive/TestReadAndWriteFiles/'\n",
        "\n",
        "# write a file\n",
        "'''with open(f'{gdrive_path}output.txt', 'w') as file:\n",
        "  file.write('Hello Google Drive!')\n",
        "!cat /content/gdrive/My\\ Drive/output.txt'''\n",
        "\n",
        "with open(f'{gdrive_path}output.txt', 'w') as file:\n",
        "  file.write('Hello Google Drive!\\n Line1 \\n Line2 \\n Line3')\n",
        "!cat /content/gdrive/My\\ Drive/output.txt\n",
        "\n"
      ]
    },
    {
      "cell_type": "code",
      "source": [
        "#Python built-in function to create a file object, and obtain data from a txt file.\n",
        "File1 = open(\"/content/gdrive/My Drive/TestReadAndWriteFiles/output.txt\",\"w\")\n",
        "#Mode: w, r, a\n",
        "print(File1.name)\n",
        "print(File1.mode)\n",
        "File1.close()\n",
        "\n"
      ],
      "metadata": {
        "colab": {
          "base_uri": "https://localhost:8080/"
        },
        "id": "Q9JFzE3OFA1m",
        "outputId": "a197271e-f99e-46a0-c179-113ece1a8b45"
      },
      "execution_count": null,
      "outputs": [
        {
          "output_type": "stream",
          "name": "stdout",
          "text": [
            "/content/gdrive/My Drive/TestReadAndWriteFiles/output.txt\n",
            "w\n"
          ]
        }
      ]
    },
    {
      "cell_type": "code",
      "source": [
        "with open('/content/gdrive/My Drive/TestReadAndWriteFiles/output.txt', 'r') as File1:\n",
        "  file_stuff = File1.read()\n",
        "  print(file_stuff)\n",
        "\n",
        "print(File1.closed)\n",
        "print(file_stuff)\n",
        "\n",
        "l = file_stuff.split()\n",
        "print(l)\n",
        "\n",
        "\n",
        "\n",
        "\n",
        "\n"
      ],
      "metadata": {
        "colab": {
          "base_uri": "https://localhost:8080/"
        },
        "id": "euLCbUWqHerY",
        "outputId": "a8ba3e14-5d2e-4424-b75c-77f360bffd20"
      },
      "execution_count": null,
      "outputs": [
        {
          "output_type": "stream",
          "name": "stdout",
          "text": [
            "Hello Google Drive!\n",
            "True\n",
            "Hello Google Drive!\n",
            "['Hello', 'Google', 'Drive!']\n"
          ]
        }
      ]
    },
    {
      "cell_type": "code",
      "source": [
        "with open('/content/gdrive/My Drive/TestReadAndWriteFiles/output.txt', 'r') as File1:\n",
        "  file_stuff = File1.readlines()\n",
        "  #file_stuff = File1.readline()\n",
        "  #file_stuff2 = File1.readline()\n",
        "  #print(File1.readlines(4))\n",
        "  print(file_stuff)\n",
        "  \n",
        "for line in file_stuff:\n",
        "  print(line)\n",
        "\n",
        "# \\n\n"
      ],
      "metadata": {
        "colab": {
          "base_uri": "https://localhost:8080/"
        },
        "id": "ubVe7cF9Lep7",
        "outputId": "57670db1-df1a-4a46-a58b-6a8b91012c32"
      },
      "execution_count": null,
      "outputs": [
        {
          "output_type": "stream",
          "name": "stdout",
          "text": [
            "['Hello Google Drive!\\n', ' Line1 \\n', ' Line2 \\n', ' Line3']\n",
            "Hello Google Drive!\n",
            "\n",
            " Line1 \n",
            "\n",
            " Line2 \n",
            "\n",
            " Line3\n"
          ]
        }
      ]
    },
    {
      "cell_type": "markdown",
      "source": [
        "### Writing Files with Open\n",
        "\n",
        "\n",
        "---\n",
        "\n"
      ],
      "metadata": {
        "id": "RnyZll7KNX83"
      }
    },
    {
      "cell_type": "code",
      "source": [
        "File1 = open(\"/content/gdrive/My Drive/TestReadAndWriteFiles/output2.txt\",\"w\")"
      ],
      "metadata": {
        "id": "Rh9huQZANeBf"
      },
      "execution_count": null,
      "outputs": []
    },
    {
      "cell_type": "code",
      "source": [
        "with open(\"/content/gdrive/My Drive/TestReadAndWriteFiles/output2.txt\",\"w\") as File1:\n",
        "  File1.write('This is line A\\n')\n",
        "  File1.write('This is line B\\n')\n",
        "  print(\"I've written in the file\")\n"
      ],
      "metadata": {
        "colab": {
          "base_uri": "https://localhost:8080/"
        },
        "id": "jvlmNTPjO1O0",
        "outputId": "b7d3ecac-3b32-4329-84c4-170c406d7372"
      },
      "execution_count": null,
      "outputs": [
        {
          "output_type": "stream",
          "name": "stdout",
          "text": [
            "I've written in the file\n"
          ]
        }
      ]
    },
    {
      "cell_type": "code",
      "source": [
        "Lines = [\"This is line A\\n\", \"This is line B\\n\", \"This is line C\\n\"]\n",
        "with open(\"/content/gdrive/My Drive/TestReadAndWriteFiles/output3.txt\",\"w\") as File1:\n",
        "  for line in Lines:\n",
        "    File1.write(line)\n",
        "    print(\"Done\")\n"
      ],
      "metadata": {
        "colab": {
          "base_uri": "https://localhost:8080/"
        },
        "id": "aYUgxKqDPchJ",
        "outputId": "8d5b17d7-22ab-42c6-c651-ea2cc36a61d5"
      },
      "execution_count": null,
      "outputs": [
        {
          "output_type": "stream",
          "name": "stdout",
          "text": [
            "Done\n",
            "Done\n",
            "Done\n"
          ]
        }
      ]
    },
    {
      "cell_type": "code",
      "source": [
        "with open(\"/content/gdrive/My Drive/TestReadAndWriteFiles/output3.txt\",\"a\") as File1:\n",
        "    File1.write(\"Append mode\")\n",
        "    print(\"Done\")"
      ],
      "metadata": {
        "colab": {
          "base_uri": "https://localhost:8080/"
        },
        "id": "7Pr2-7W3QUcU",
        "outputId": "998668e7-ed56-4f1e-9f00-0d76b335e034"
      },
      "execution_count": null,
      "outputs": [
        {
          "output_type": "stream",
          "name": "stdout",
          "text": [
            "Done\n"
          ]
        }
      ]
    },
    {
      "cell_type": "code",
      "source": [
        "#Copy one file to a new file\n",
        "\n",
        "with open(\"/content/gdrive/My Drive/TestReadAndWriteFiles/output3.txt\",\"r\") as readFile:\n",
        "\n",
        "  with open(\"/content/gdrive/My Drive/TestReadAndWriteFiles/output4.txt\",\"w\") as writeFile:\n",
        "\n",
        "    for line in readFile:\n",
        "      writeFile.write(line)\n",
        "      print(\"I've copied the line\")\n",
        "\n",
        "\n",
        "\n"
      ],
      "metadata": {
        "colab": {
          "base_uri": "https://localhost:8080/"
        },
        "id": "Dnzt7jylQrUe",
        "outputId": "e5a209b6-8547-4505-e1a0-41ff97f5f039"
      },
      "execution_count": null,
      "outputs": [
        {
          "output_type": "stream",
          "name": "stdout",
          "text": [
            "I've copied the line\n",
            "I've copied the line\n",
            "I've copied the line\n",
            "I've copied the line\n"
          ]
        }
      ]
    },
    {
      "cell_type": "markdown",
      "source": [
        "### Loading Data with Pandas\n",
        "\n",
        "\n",
        "---\n",
        "\n"
      ],
      "metadata": {
        "id": "-qsLk4o5R0BM"
      }
    },
    {
      "cell_type": "code",
      "source": [
        "#Pandas - a library for data analysis\n",
        "import pandas\n",
        "csv_path = '/content/gdrive/My Drive/TestReadAndWriteFiles/TestC.csv'\n",
        "df = pandas.read_csv(csv_path)\n",
        "print(df)\n"
      ],
      "metadata": {
        "id": "Vk8zh9CLR5GJ",
        "colab": {
          "base_uri": "https://localhost:8080/"
        },
        "outputId": "7c8a2fea-3236-44e6-b65c-db57e61e270d"
      },
      "execution_count": null,
      "outputs": [
        {
          "output_type": "stream",
          "name": "stdout",
          "text": [
            "    1  q\n",
            "0   2  w\n",
            "1   3  e\n",
            "2   4  r\n",
            "3   5  t\n",
            "4   6  y\n",
            "5   7  u\n",
            "6   8  i\n",
            "7   9  o\n",
            "8   1  p\n",
            "9   1  a\n",
            "10  2  s\n",
            "11  3  d\n",
            "12  3  f\n"
          ]
        }
      ]
    },
    {
      "cell_type": "code",
      "source": [
        "import pandas as pd\n",
        "csv_path = '/content/gdrive/My Drive/TestReadAndWriteFiles/TestC.csv'\n",
        "df = pd.read_csv(csv_path) #data frame\n",
        "df.head()"
      ],
      "metadata": {
        "colab": {
          "base_uri": "https://localhost:8080/",
          "height": 206
        },
        "id": "pqcMaxvX4Z2e",
        "outputId": "8046d576-bb2b-4972-b82b-3a73cfeff867"
      },
      "execution_count": null,
      "outputs": [
        {
          "output_type": "execute_result",
          "data": {
            "text/plain": [
              "   1  q\n",
              "0  2  w\n",
              "1  3  e\n",
              "2  4  r\n",
              "3  5  t\n",
              "4  6  y"
            ],
            "text/html": [
              "\n",
              "  <div id=\"df-489ea74b-9e21-42e2-9801-320cf8e61986\">\n",
              "    <div class=\"colab-df-container\">\n",
              "      <div>\n",
              "<style scoped>\n",
              "    .dataframe tbody tr th:only-of-type {\n",
              "        vertical-align: middle;\n",
              "    }\n",
              "\n",
              "    .dataframe tbody tr th {\n",
              "        vertical-align: top;\n",
              "    }\n",
              "\n",
              "    .dataframe thead th {\n",
              "        text-align: right;\n",
              "    }\n",
              "</style>\n",
              "<table border=\"1\" class=\"dataframe\">\n",
              "  <thead>\n",
              "    <tr style=\"text-align: right;\">\n",
              "      <th></th>\n",
              "      <th>1</th>\n",
              "      <th>q</th>\n",
              "    </tr>\n",
              "  </thead>\n",
              "  <tbody>\n",
              "    <tr>\n",
              "      <th>0</th>\n",
              "      <td>2</td>\n",
              "      <td>w</td>\n",
              "    </tr>\n",
              "    <tr>\n",
              "      <th>1</th>\n",
              "      <td>3</td>\n",
              "      <td>e</td>\n",
              "    </tr>\n",
              "    <tr>\n",
              "      <th>2</th>\n",
              "      <td>4</td>\n",
              "      <td>r</td>\n",
              "    </tr>\n",
              "    <tr>\n",
              "      <th>3</th>\n",
              "      <td>5</td>\n",
              "      <td>t</td>\n",
              "    </tr>\n",
              "    <tr>\n",
              "      <th>4</th>\n",
              "      <td>6</td>\n",
              "      <td>y</td>\n",
              "    </tr>\n",
              "  </tbody>\n",
              "</table>\n",
              "</div>\n",
              "      <button class=\"colab-df-convert\" onclick=\"convertToInteractive('df-489ea74b-9e21-42e2-9801-320cf8e61986')\"\n",
              "              title=\"Convert this dataframe to an interactive table.\"\n",
              "              style=\"display:none;\">\n",
              "        \n",
              "  <svg xmlns=\"http://www.w3.org/2000/svg\" height=\"24px\"viewBox=\"0 0 24 24\"\n",
              "       width=\"24px\">\n",
              "    <path d=\"M0 0h24v24H0V0z\" fill=\"none\"/>\n",
              "    <path d=\"M18.56 5.44l.94 2.06.94-2.06 2.06-.94-2.06-.94-.94-2.06-.94 2.06-2.06.94zm-11 1L8.5 8.5l.94-2.06 2.06-.94-2.06-.94L8.5 2.5l-.94 2.06-2.06.94zm10 10l.94 2.06.94-2.06 2.06-.94-2.06-.94-.94-2.06-.94 2.06-2.06.94z\"/><path d=\"M17.41 7.96l-1.37-1.37c-.4-.4-.92-.59-1.43-.59-.52 0-1.04.2-1.43.59L10.3 9.45l-7.72 7.72c-.78.78-.78 2.05 0 2.83L4 21.41c.39.39.9.59 1.41.59.51 0 1.02-.2 1.41-.59l7.78-7.78 2.81-2.81c.8-.78.8-2.07 0-2.86zM5.41 20L4 18.59l7.72-7.72 1.47 1.35L5.41 20z\"/>\n",
              "  </svg>\n",
              "      </button>\n",
              "      \n",
              "  <style>\n",
              "    .colab-df-container {\n",
              "      display:flex;\n",
              "      flex-wrap:wrap;\n",
              "      gap: 12px;\n",
              "    }\n",
              "\n",
              "    .colab-df-convert {\n",
              "      background-color: #E8F0FE;\n",
              "      border: none;\n",
              "      border-radius: 50%;\n",
              "      cursor: pointer;\n",
              "      display: none;\n",
              "      fill: #1967D2;\n",
              "      height: 32px;\n",
              "      padding: 0 0 0 0;\n",
              "      width: 32px;\n",
              "    }\n",
              "\n",
              "    .colab-df-convert:hover {\n",
              "      background-color: #E2EBFA;\n",
              "      box-shadow: 0px 1px 2px rgba(60, 64, 67, 0.3), 0px 1px 3px 1px rgba(60, 64, 67, 0.15);\n",
              "      fill: #174EA6;\n",
              "    }\n",
              "\n",
              "    [theme=dark] .colab-df-convert {\n",
              "      background-color: #3B4455;\n",
              "      fill: #D2E3FC;\n",
              "    }\n",
              "\n",
              "    [theme=dark] .colab-df-convert:hover {\n",
              "      background-color: #434B5C;\n",
              "      box-shadow: 0px 1px 3px 1px rgba(0, 0, 0, 0.15);\n",
              "      filter: drop-shadow(0px 1px 2px rgba(0, 0, 0, 0.3));\n",
              "      fill: #FFFFFF;\n",
              "    }\n",
              "  </style>\n",
              "\n",
              "      <script>\n",
              "        const buttonEl =\n",
              "          document.querySelector('#df-489ea74b-9e21-42e2-9801-320cf8e61986 button.colab-df-convert');\n",
              "        buttonEl.style.display =\n",
              "          google.colab.kernel.accessAllowed ? 'block' : 'none';\n",
              "\n",
              "        async function convertToInteractive(key) {\n",
              "          const element = document.querySelector('#df-489ea74b-9e21-42e2-9801-320cf8e61986');\n",
              "          const dataTable =\n",
              "            await google.colab.kernel.invokeFunction('convertToInteractive',\n",
              "                                                     [key], {});\n",
              "          if (!dataTable) return;\n",
              "\n",
              "          const docLinkHtml = 'Like what you see? Visit the ' +\n",
              "            '<a target=\"_blank\" href=https://colab.research.google.com/notebooks/data_table.ipynb>data table notebook</a>'\n",
              "            + ' to learn more about interactive tables.';\n",
              "          element.innerHTML = '';\n",
              "          dataTable['output_type'] = 'display_data';\n",
              "          await google.colab.output.renderOutput(dataTable, element);\n",
              "          const docLink = document.createElement('div');\n",
              "          docLink.innerHTML = docLinkHtml;\n",
              "          element.appendChild(docLink);\n",
              "        }\n",
              "      </script>\n",
              "    </div>\n",
              "  </div>\n",
              "  "
            ]
          },
          "metadata": {},
          "execution_count": 38
        }
      ]
    },
    {
      "cell_type": "code",
      "source": [
        "import pandas as pd\n",
        "\n",
        "xlsx_path = '/content/gdrive/My Drive/TestReadAndWriteFiles/TestZ.xlsx'\n",
        "df = pd.read_excel(xlsx_path)\n",
        "df.head()\n",
        "\n",
        "#A dataframe is comprised of rows and columns. We can create a data frame out of a dictionary."
      ],
      "metadata": {
        "colab": {
          "base_uri": "https://localhost:8080/",
          "height": 206
        },
        "id": "xoN6Cv1j5Qjq",
        "outputId": "09c2104c-9ad3-4e8d-8152-41c8d261d7be"
      },
      "execution_count": null,
      "outputs": [
        {
          "output_type": "execute_result",
          "data": {
            "text/plain": [
              "   1  q\n",
              "0  2  w\n",
              "1  3  e\n",
              "2  4  r\n",
              "3  5  t\n",
              "4  6  y"
            ],
            "text/html": [
              "\n",
              "  <div id=\"df-b50d192a-40b0-46ab-b71f-5862fff8cced\">\n",
              "    <div class=\"colab-df-container\">\n",
              "      <div>\n",
              "<style scoped>\n",
              "    .dataframe tbody tr th:only-of-type {\n",
              "        vertical-align: middle;\n",
              "    }\n",
              "\n",
              "    .dataframe tbody tr th {\n",
              "        vertical-align: top;\n",
              "    }\n",
              "\n",
              "    .dataframe thead th {\n",
              "        text-align: right;\n",
              "    }\n",
              "</style>\n",
              "<table border=\"1\" class=\"dataframe\">\n",
              "  <thead>\n",
              "    <tr style=\"text-align: right;\">\n",
              "      <th></th>\n",
              "      <th>1</th>\n",
              "      <th>q</th>\n",
              "    </tr>\n",
              "  </thead>\n",
              "  <tbody>\n",
              "    <tr>\n",
              "      <th>0</th>\n",
              "      <td>2</td>\n",
              "      <td>w</td>\n",
              "    </tr>\n",
              "    <tr>\n",
              "      <th>1</th>\n",
              "      <td>3</td>\n",
              "      <td>e</td>\n",
              "    </tr>\n",
              "    <tr>\n",
              "      <th>2</th>\n",
              "      <td>4</td>\n",
              "      <td>r</td>\n",
              "    </tr>\n",
              "    <tr>\n",
              "      <th>3</th>\n",
              "      <td>5</td>\n",
              "      <td>t</td>\n",
              "    </tr>\n",
              "    <tr>\n",
              "      <th>4</th>\n",
              "      <td>6</td>\n",
              "      <td>y</td>\n",
              "    </tr>\n",
              "  </tbody>\n",
              "</table>\n",
              "</div>\n",
              "      <button class=\"colab-df-convert\" onclick=\"convertToInteractive('df-b50d192a-40b0-46ab-b71f-5862fff8cced')\"\n",
              "              title=\"Convert this dataframe to an interactive table.\"\n",
              "              style=\"display:none;\">\n",
              "        \n",
              "  <svg xmlns=\"http://www.w3.org/2000/svg\" height=\"24px\"viewBox=\"0 0 24 24\"\n",
              "       width=\"24px\">\n",
              "    <path d=\"M0 0h24v24H0V0z\" fill=\"none\"/>\n",
              "    <path d=\"M18.56 5.44l.94 2.06.94-2.06 2.06-.94-2.06-.94-.94-2.06-.94 2.06-2.06.94zm-11 1L8.5 8.5l.94-2.06 2.06-.94-2.06-.94L8.5 2.5l-.94 2.06-2.06.94zm10 10l.94 2.06.94-2.06 2.06-.94-2.06-.94-.94-2.06-.94 2.06-2.06.94z\"/><path d=\"M17.41 7.96l-1.37-1.37c-.4-.4-.92-.59-1.43-.59-.52 0-1.04.2-1.43.59L10.3 9.45l-7.72 7.72c-.78.78-.78 2.05 0 2.83L4 21.41c.39.39.9.59 1.41.59.51 0 1.02-.2 1.41-.59l7.78-7.78 2.81-2.81c.8-.78.8-2.07 0-2.86zM5.41 20L4 18.59l7.72-7.72 1.47 1.35L5.41 20z\"/>\n",
              "  </svg>\n",
              "      </button>\n",
              "      \n",
              "  <style>\n",
              "    .colab-df-container {\n",
              "      display:flex;\n",
              "      flex-wrap:wrap;\n",
              "      gap: 12px;\n",
              "    }\n",
              "\n",
              "    .colab-df-convert {\n",
              "      background-color: #E8F0FE;\n",
              "      border: none;\n",
              "      border-radius: 50%;\n",
              "      cursor: pointer;\n",
              "      display: none;\n",
              "      fill: #1967D2;\n",
              "      height: 32px;\n",
              "      padding: 0 0 0 0;\n",
              "      width: 32px;\n",
              "    }\n",
              "\n",
              "    .colab-df-convert:hover {\n",
              "      background-color: #E2EBFA;\n",
              "      box-shadow: 0px 1px 2px rgba(60, 64, 67, 0.3), 0px 1px 3px 1px rgba(60, 64, 67, 0.15);\n",
              "      fill: #174EA6;\n",
              "    }\n",
              "\n",
              "    [theme=dark] .colab-df-convert {\n",
              "      background-color: #3B4455;\n",
              "      fill: #D2E3FC;\n",
              "    }\n",
              "\n",
              "    [theme=dark] .colab-df-convert:hover {\n",
              "      background-color: #434B5C;\n",
              "      box-shadow: 0px 1px 3px 1px rgba(0, 0, 0, 0.15);\n",
              "      filter: drop-shadow(0px 1px 2px rgba(0, 0, 0, 0.3));\n",
              "      fill: #FFFFFF;\n",
              "    }\n",
              "  </style>\n",
              "\n",
              "      <script>\n",
              "        const buttonEl =\n",
              "          document.querySelector('#df-b50d192a-40b0-46ab-b71f-5862fff8cced button.colab-df-convert');\n",
              "        buttonEl.style.display =\n",
              "          google.colab.kernel.accessAllowed ? 'block' : 'none';\n",
              "\n",
              "        async function convertToInteractive(key) {\n",
              "          const element = document.querySelector('#df-b50d192a-40b0-46ab-b71f-5862fff8cced');\n",
              "          const dataTable =\n",
              "            await google.colab.kernel.invokeFunction('convertToInteractive',\n",
              "                                                     [key], {});\n",
              "          if (!dataTable) return;\n",
              "\n",
              "          const docLinkHtml = 'Like what you see? Visit the ' +\n",
              "            '<a target=\"_blank\" href=https://colab.research.google.com/notebooks/data_table.ipynb>data table notebook</a>'\n",
              "            + ' to learn more about interactive tables.';\n",
              "          element.innerHTML = '';\n",
              "          dataTable['output_type'] = 'display_data';\n",
              "          await google.colab.output.renderOutput(dataTable, element);\n",
              "          const docLink = document.createElement('div');\n",
              "          docLink.innerHTML = docLinkHtml;\n",
              "          element.appendChild(docLink);\n",
              "        }\n",
              "      </script>\n",
              "    </div>\n",
              "  </div>\n",
              "  "
            ]
          },
          "metadata": {},
          "execution_count": 39
        }
      ]
    },
    {
      "cell_type": "code",
      "source": [
        "import pandas as pd\n",
        "songs = {\"Album\": [\"Thriller\", \"Back in Black\", \"TDSM\", \"Hello\", \"HowAre\"],\n",
        "         \"Released\":[1983, 1928, 9192, 1982, 2384],\n",
        "         \"Len\":[\"01091\", \"9192\", \"19282\", \"kajsd\", \"laja\"]}\n",
        "print(songs)\n",
        "songs_frame = pd.DataFrame(songs)\n",
        "print(songs_frame)\n",
        "\n",
        "df= pd.DataFrame(songs)\n",
        "#df[[\"Len\"]]\n",
        "\n",
        "df[[\"Released\", \"Len\"]]\n",
        "\n",
        "\n"
      ],
      "metadata": {
        "colab": {
          "base_uri": "https://localhost:8080/",
          "height": 348
        },
        "id": "svIeOn_O6Ogj",
        "outputId": "d6ba97af-da76-4724-aa95-5fae97256d0e"
      },
      "execution_count": null,
      "outputs": [
        {
          "output_type": "stream",
          "name": "stdout",
          "text": [
            "{'Album': ['Thriller', 'Back in Black', 'TDSM', 'Hello', 'HowAre'], 'Released': [1983, 1928, 9192, 1982, 2384], 'Len': ['01091', '9192', '19282', 'kajsd', 'laja']}\n",
            "           Album  Released    Len\n",
            "0       Thriller      1983  01091\n",
            "1  Back in Black      1928   9192\n",
            "2           TDSM      9192  19282\n",
            "3          Hello      1982  kajsd\n",
            "4         HowAre      2384   laja\n"
          ]
        },
        {
          "output_type": "execute_result",
          "data": {
            "text/plain": [
              "   Released    Len\n",
              "0      1983  01091\n",
              "1      1928   9192\n",
              "2      9192  19282\n",
              "3      1982  kajsd\n",
              "4      2384   laja"
            ],
            "text/html": [
              "\n",
              "  <div id=\"df-eb564fa4-d7a8-4795-9b5d-d1b8cb3635a9\">\n",
              "    <div class=\"colab-df-container\">\n",
              "      <div>\n",
              "<style scoped>\n",
              "    .dataframe tbody tr th:only-of-type {\n",
              "        vertical-align: middle;\n",
              "    }\n",
              "\n",
              "    .dataframe tbody tr th {\n",
              "        vertical-align: top;\n",
              "    }\n",
              "\n",
              "    .dataframe thead th {\n",
              "        text-align: right;\n",
              "    }\n",
              "</style>\n",
              "<table border=\"1\" class=\"dataframe\">\n",
              "  <thead>\n",
              "    <tr style=\"text-align: right;\">\n",
              "      <th></th>\n",
              "      <th>Released</th>\n",
              "      <th>Len</th>\n",
              "    </tr>\n",
              "  </thead>\n",
              "  <tbody>\n",
              "    <tr>\n",
              "      <th>0</th>\n",
              "      <td>1983</td>\n",
              "      <td>01091</td>\n",
              "    </tr>\n",
              "    <tr>\n",
              "      <th>1</th>\n",
              "      <td>1928</td>\n",
              "      <td>9192</td>\n",
              "    </tr>\n",
              "    <tr>\n",
              "      <th>2</th>\n",
              "      <td>9192</td>\n",
              "      <td>19282</td>\n",
              "    </tr>\n",
              "    <tr>\n",
              "      <th>3</th>\n",
              "      <td>1982</td>\n",
              "      <td>kajsd</td>\n",
              "    </tr>\n",
              "    <tr>\n",
              "      <th>4</th>\n",
              "      <td>2384</td>\n",
              "      <td>laja</td>\n",
              "    </tr>\n",
              "  </tbody>\n",
              "</table>\n",
              "</div>\n",
              "      <button class=\"colab-df-convert\" onclick=\"convertToInteractive('df-eb564fa4-d7a8-4795-9b5d-d1b8cb3635a9')\"\n",
              "              title=\"Convert this dataframe to an interactive table.\"\n",
              "              style=\"display:none;\">\n",
              "        \n",
              "  <svg xmlns=\"http://www.w3.org/2000/svg\" height=\"24px\"viewBox=\"0 0 24 24\"\n",
              "       width=\"24px\">\n",
              "    <path d=\"M0 0h24v24H0V0z\" fill=\"none\"/>\n",
              "    <path d=\"M18.56 5.44l.94 2.06.94-2.06 2.06-.94-2.06-.94-.94-2.06-.94 2.06-2.06.94zm-11 1L8.5 8.5l.94-2.06 2.06-.94-2.06-.94L8.5 2.5l-.94 2.06-2.06.94zm10 10l.94 2.06.94-2.06 2.06-.94-2.06-.94-.94-2.06-.94 2.06-2.06.94z\"/><path d=\"M17.41 7.96l-1.37-1.37c-.4-.4-.92-.59-1.43-.59-.52 0-1.04.2-1.43.59L10.3 9.45l-7.72 7.72c-.78.78-.78 2.05 0 2.83L4 21.41c.39.39.9.59 1.41.59.51 0 1.02-.2 1.41-.59l7.78-7.78 2.81-2.81c.8-.78.8-2.07 0-2.86zM5.41 20L4 18.59l7.72-7.72 1.47 1.35L5.41 20z\"/>\n",
              "  </svg>\n",
              "      </button>\n",
              "      \n",
              "  <style>\n",
              "    .colab-df-container {\n",
              "      display:flex;\n",
              "      flex-wrap:wrap;\n",
              "      gap: 12px;\n",
              "    }\n",
              "\n",
              "    .colab-df-convert {\n",
              "      background-color: #E8F0FE;\n",
              "      border: none;\n",
              "      border-radius: 50%;\n",
              "      cursor: pointer;\n",
              "      display: none;\n",
              "      fill: #1967D2;\n",
              "      height: 32px;\n",
              "      padding: 0 0 0 0;\n",
              "      width: 32px;\n",
              "    }\n",
              "\n",
              "    .colab-df-convert:hover {\n",
              "      background-color: #E2EBFA;\n",
              "      box-shadow: 0px 1px 2px rgba(60, 64, 67, 0.3), 0px 1px 3px 1px rgba(60, 64, 67, 0.15);\n",
              "      fill: #174EA6;\n",
              "    }\n",
              "\n",
              "    [theme=dark] .colab-df-convert {\n",
              "      background-color: #3B4455;\n",
              "      fill: #D2E3FC;\n",
              "    }\n",
              "\n",
              "    [theme=dark] .colab-df-convert:hover {\n",
              "      background-color: #434B5C;\n",
              "      box-shadow: 0px 1px 3px 1px rgba(0, 0, 0, 0.15);\n",
              "      filter: drop-shadow(0px 1px 2px rgba(0, 0, 0, 0.3));\n",
              "      fill: #FFFFFF;\n",
              "    }\n",
              "  </style>\n",
              "\n",
              "      <script>\n",
              "        const buttonEl =\n",
              "          document.querySelector('#df-eb564fa4-d7a8-4795-9b5d-d1b8cb3635a9 button.colab-df-convert');\n",
              "        buttonEl.style.display =\n",
              "          google.colab.kernel.accessAllowed ? 'block' : 'none';\n",
              "\n",
              "        async function convertToInteractive(key) {\n",
              "          const element = document.querySelector('#df-eb564fa4-d7a8-4795-9b5d-d1b8cb3635a9');\n",
              "          const dataTable =\n",
              "            await google.colab.kernel.invokeFunction('convertToInteractive',\n",
              "                                                     [key], {});\n",
              "          if (!dataTable) return;\n",
              "\n",
              "          const docLinkHtml = 'Like what you see? Visit the ' +\n",
              "            '<a target=\"_blank\" href=https://colab.research.google.com/notebooks/data_table.ipynb>data table notebook</a>'\n",
              "            + ' to learn more about interactive tables.';\n",
              "          element.innerHTML = '';\n",
              "          dataTable['output_type'] = 'display_data';\n",
              "          await google.colab.output.renderOutput(dataTable, element);\n",
              "          const docLink = document.createElement('div');\n",
              "          docLink.innerHTML = docLinkHtml;\n",
              "          element.appendChild(docLink);\n",
              "        }\n",
              "      </script>\n",
              "    </div>\n",
              "  </div>\n",
              "  "
            ]
          },
          "metadata": {},
          "execution_count": 40
        }
      ]
    },
    {
      "cell_type": "code",
      "source": [
        "import pandas as pd\n",
        "songs = {\"Album\": [\"Thriller\", \"Back in Black\", \"TDSM\", \"Hello\", \"HowAre\"],\n",
        "         \"Released\":[1983, 1928, 9192, 1982, 2384],\n",
        "         \"Len\":[\"01091\", \"9192\", \"19282\", \"kajsd\", \"laja\"]}\n",
        "df= pd.DataFrame(songs)\n",
        "#df.ix[0,\"Album\"]:\"Thriller\"\n",
        "#z = df.ix[0:2, 0:3]\n",
        "\n"
      ],
      "metadata": {
        "id": "Us2m9_Pv8opT"
      },
      "execution_count": null,
      "outputs": []
    },
    {
      "cell_type": "markdown",
      "source": [
        "### Working with and Saving Data with Pandas\n",
        "\n",
        "\n",
        "---\n",
        "\n"
      ],
      "metadata": {
        "id": "FsM_GY2u-m6S"
      }
    },
    {
      "cell_type": "code",
      "source": [
        "import pandas as pd\n",
        "songs = {\"Released\":[1983, 1928, 9192, 1982, 2384, 23442,1928,9192 ]}\n",
        "df= pd.DataFrame(songs)\n",
        "print(df)\n",
        "df[\"Released\"].unique()\n",
        "\n"
      ],
      "metadata": {
        "colab": {
          "base_uri": "https://localhost:8080/"
        },
        "id": "I6hEcWdy-tQz",
        "outputId": "91a5a257-d50c-43c8-9c61-edfafb662d2a"
      },
      "execution_count": null,
      "outputs": [
        {
          "output_type": "stream",
          "name": "stdout",
          "text": [
            "   Released\n",
            "0      1983\n",
            "1      1928\n",
            "2      9192\n",
            "3      1982\n",
            "4      2384\n",
            "5     23442\n",
            "6      1928\n",
            "7      9192\n"
          ]
        },
        {
          "output_type": "execute_result",
          "data": {
            "text/plain": [
              "array([ 1983,  1928,  9192,  1982,  2384, 23442])"
            ]
          },
          "metadata": {},
          "execution_count": 46
        }
      ]
    },
    {
      "cell_type": "code",
      "source": [
        "import pandas as pd\n",
        "songs = {\"Album\": [\"Thriller\", \"Back in Black\", \"TDSM\", \"Hello\", \"HowAre\"],\n",
        "         \"Released\":[1983, 1928, 9192, 1982, 2384],\n",
        "         \"Len\":[\"01091\", \"9192\", \"19282\", \"kajsd\", \"laja\"]}\n",
        "print(songs)\n",
        "df[\"Released\"]>=1980\n"
      ],
      "metadata": {
        "colab": {
          "base_uri": "https://localhost:8080/"
        },
        "id": "jkXGsdK3_i_V",
        "outputId": "3c60b757-cd74-4309-9fc9-7ebf4df98241"
      },
      "execution_count": null,
      "outputs": [
        {
          "output_type": "stream",
          "name": "stdout",
          "text": [
            "{'Album': ['Thriller', 'Back in Black', 'TDSM', 'Hello', 'HowAre'], 'Released': [1983, 1928, 9192, 1982, 2384], 'Len': ['01091', '9192', '19282', 'kajsd', 'laja']}\n"
          ]
        },
        {
          "output_type": "execute_result",
          "data": {
            "text/plain": [
              "0     True\n",
              "1    False\n",
              "2     True\n",
              "3     True\n",
              "4     True\n",
              "5     True\n",
              "6    False\n",
              "7     True\n",
              "Name: Released, dtype: bool"
            ]
          },
          "metadata": {},
          "execution_count": 48
        }
      ]
    },
    {
      "cell_type": "code",
      "source": [
        "import pandas as pd\n",
        "songs = {\"Album\": [\"Thriller\", \"Back in Black\", \"TDSM\", \"Hello\", \"HowAre\"],\n",
        "         \"Released\":[1983, 1928, 9192, 1982, 2384],\n",
        "         \"Len\":[\"01091\", \"9192\", \"19282\", \"kajsd\", \"laja\"]}\n",
        "print(songs)\n",
        "df1 = df[df[\"Released\"]>=1980]\n",
        "print(df1)\n",
        "#df1.to_csv(\"/content/gdrive/My Drive/TestReadAndWriteFiles/TesXZ.csv\")"
      ],
      "metadata": {
        "colab": {
          "base_uri": "https://localhost:8080/"
        },
        "id": "4869ytMh_2Hy",
        "outputId": "420759a7-9899-42df-c507-66b6b856f929"
      },
      "execution_count": null,
      "outputs": [
        {
          "output_type": "stream",
          "name": "stdout",
          "text": [
            "{'Album': ['Thriller', 'Back in Black', 'TDSM', 'Hello', 'HowAre'], 'Released': [1983, 1928, 9192, 1982, 2384], 'Len': ['01091', '9192', '19282', 'kajsd', 'laja']}\n",
            "   Released\n",
            "0      1983\n",
            "2      9192\n",
            "3      1982\n",
            "4      2384\n",
            "5     23442\n",
            "7      9192\n"
          ]
        }
      ]
    },
    {
      "cell_type": "code",
      "source": [
        "import pandas as pd\n",
        "df=pd.DataFrame({'a':[1,2,1],'b':[1,1,1]})\n",
        "df['a']==1 "
      ],
      "metadata": {
        "id": "YWV-tXJZE3Hr",
        "outputId": "f3c24774-771f-48b7-865a-971e42c16dc4",
        "colab": {
          "base_uri": "https://localhost:8080/"
        }
      },
      "execution_count": null,
      "outputs": [
        {
          "output_type": "execute_result",
          "data": {
            "text/plain": [
              "0     True\n",
              "1    False\n",
              "2     True\n",
              "Name: a, dtype: bool"
            ]
          },
          "metadata": {},
          "execution_count": 54
        }
      ]
    },
    {
      "cell_type": "markdown",
      "source": [
        "## Python Object Oriented Programming (OOP) - For Beginners\n",
        "\n",
        "\n",
        "\n",
        "---\n",
        "\n"
      ],
      "metadata": {
        "id": "aWbcvCH3QxM0"
      }
    },
    {
      "cell_type": "code",
      "source": [
        "#Object Orientated Programming in Python\n",
        "x = 1\n",
        "print(type(\"hello\"))\n",
        "\n",
        "class Dog:\n",
        "  def __init__(self,name, age):\n",
        "    self.name = name\n",
        "    self.age = age\n",
        "\n",
        "  def bark():\n",
        "    print(\"bark\")\n",
        "  \n",
        "  def add_one(self, x):\n",
        "    return x + 1\n",
        "  \n",
        "  def bark(self):\n",
        "    print(\"bark\")\n",
        "\n",
        "  def get_name(self):\n",
        "    return self.name\n",
        "  \n",
        "  def get_age(self):\n",
        "    return self.age\n",
        "  \n",
        "  def set_age(self, age):\n",
        "    self.age = age\n",
        "\n",
        "d = Dog(\"Tim\",34)\n",
        "d.set_age(23)\n",
        "print(type(d))\n",
        "d2 = Dog(\"Bill\",12)\n",
        "print(d2.get_name())\n",
        "print(d.get_age())\n"
      ],
      "metadata": {
        "id": "rYzbbv-WRIyd",
        "outputId": "83dc6641-42b6-4334-9958-74ce0d57e8c5",
        "colab": {
          "base_uri": "https://localhost:8080/"
        }
      },
      "execution_count": 8,
      "outputs": [
        {
          "output_type": "stream",
          "name": "stdout",
          "text": [
            "<class 'str'>\n",
            "<class '__main__.Dog'>\n",
            "Bill\n",
            "23\n"
          ]
        }
      ]
    },
    {
      "cell_type": "code",
      "source": [
        "class Student:\n",
        "  def __init__(self, name, age, grade):\n",
        "    self.name = name\n",
        "    self.age = age\n",
        "    self.grade = grade #0 - 100\n",
        "\n",
        "  def get_grade(self):\n",
        "    return self.grade\n",
        "\n",
        "class Course:\n",
        "  def __init__(self, name, max_students):\n",
        "    self.name = name\n",
        "    self.max_students = max_students\n",
        "    self.students = []\n",
        "  def add_student(self, student):\n",
        "    if len(self.students) < self.max_students:\n",
        "      self.students.append(student)\n",
        "      return True\n",
        "    return False\n",
        "  \n",
        "  def get_average_grade(self):\n",
        "    value = 0\n",
        "    for student in self.students:\n",
        "      value += student.get_grade()\n",
        "    \n",
        "    return value / len(self.students)\n",
        "  \n",
        "s1 = Student(\"Tim\", 19, 95)\n",
        "s2 = Student(\"Bill\", 19, 75)\n",
        "s3 = Student(\"Jill\", 19, 65)\n",
        "\n",
        "course = Course(\"Science\",2)\n",
        "course.add_student(s1)\n",
        "course.add_student(s2)\n",
        "print(course.add_student(s3))\n",
        "print(course.get_average_grade())"
      ],
      "metadata": {
        "id": "o_44582DV6m7",
        "outputId": "b04b4089-76c5-4c01-ddaa-965a7e9294c9",
        "colab": {
          "base_uri": "https://localhost:8080/"
        }
      },
      "execution_count": 13,
      "outputs": [
        {
          "output_type": "stream",
          "name": "stdout",
          "text": [
            "False\n",
            "85.0\n"
          ]
        }
      ]
    },
    {
      "cell_type": "code",
      "source": [
        "class Pet:\n",
        "  def __init__(self, name, age):\n",
        "    self.name = name\n",
        "    self.age = age\n",
        "  \n",
        "  def show(self):\n",
        "    print(f\"I am {self.name} and I am, {self.age} years old\")\n",
        "  \n",
        "  def speak(self):\n",
        "    print(\"I dont know what I say\")\n",
        "\n",
        "class Cat(Pet):\n",
        "  def __init__(self, name, age, color):\n",
        "    super().__init__(name, age)\n",
        "    self.color = color\n",
        "\n",
        "  def show(self):\n",
        "    print(f\"I am {self.name} and I aM, {self.age} years old and I am {self.color}\")\n",
        "\n",
        "  def speak(self):\n",
        "    print(\"Meow\")\n",
        "\n",
        "class Dog(Pet):\n",
        "  def speak(self):\n",
        "    print(\"Bark\")\n",
        "\n",
        "p = Pet(\"Tim\", 19)\n",
        "p.show()\n",
        "c = Cat(\"Bill\", 34, \"blue\")\n",
        "c.speak()\n",
        "d = Dog(\"Jill\", 25)\n",
        "d.speak()"
      ],
      "metadata": {
        "id": "gJ6phuwyYCf6",
        "outputId": "fbe5ba31-26ce-43ce-f62c-ab1c9cece7ad",
        "colab": {
          "base_uri": "https://localhost:8080/"
        }
      },
      "execution_count": 18,
      "outputs": [
        {
          "output_type": "stream",
          "name": "stdout",
          "text": [
            "I am Tim and I am, 19 years old\n",
            "Meow\n",
            "Bark\n"
          ]
        }
      ]
    },
    {
      "cell_type": "code",
      "source": [
        "class Person:\n",
        "  number_of_people = 0\n",
        "  GRAVITY = -9.8\n",
        "\n",
        "  def __init__(self, name):\n",
        "    self.name = name\n",
        "  \n",
        "  @classmethod\n",
        "  def number_of_people(cls):\n",
        "    return cls.number_of_people()\n",
        "\n",
        "  @classmethod\n",
        "  def add_people(cls):\n",
        "    cls.number_of_people += 1\n",
        "\n",
        "p1 = Person(\"tim\")\n",
        "print(Person.number_of_people)\n",
        "p2 = Person(\"Jill\")\n",
        "print(Person.number_of_people)\n"
      ],
      "metadata": {
        "id": "1wo_9W2yajmc",
        "outputId": "cbff2301-291c-4b89-8b71-b205d8aed541",
        "colab": {
          "base_uri": "https://localhost:8080/"
        }
      },
      "execution_count": 20,
      "outputs": [
        {
          "output_type": "stream",
          "name": "stdout",
          "text": [
            "<bound method Person.number_of_people of <class '__main__.Person'>>\n",
            "<bound method Person.number_of_people of <class '__main__.Person'>>\n"
          ]
        }
      ]
    },
    {
      "cell_type": "code",
      "source": [
        "class Math:\n",
        "\n",
        "  @staticmethod\n",
        "  def add5(x):\n",
        "    return x + 5\n",
        "  \n",
        "  @staticmethod\n",
        "  def add10(x):\n",
        "    return x + 10\n",
        "\n",
        "  @staticmethod\n",
        "  def pr():\n",
        "    print(\"run\")\n",
        "\n",
        "Math.pr()"
      ],
      "metadata": {
        "id": "U4YOwKiobXfR",
        "outputId": "dd60f083-8f4f-4712-eac1-57fe59e84426",
        "colab": {
          "base_uri": "https://localhost:8080/"
        }
      },
      "execution_count": 21,
      "outputs": [
        {
          "output_type": "stream",
          "name": "stdout",
          "text": [
            "run\n"
          ]
        }
      ]
    }
  ]
}