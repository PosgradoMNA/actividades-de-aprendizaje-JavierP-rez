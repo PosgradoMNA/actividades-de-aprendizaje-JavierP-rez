{
  "nbformat": 4,
  "nbformat_minor": 0,
  "metadata": {
    "colab": {
      "provenance": [],
      "authorship_tag": "ABX9TyM4xDq6fpW/6eKds30PkseE",
      "include_colab_link": true
    },
    "kernelspec": {
      "name": "python3",
      "display_name": "Python 3"
    },
    "language_info": {
      "name": "python"
    }
  },
  "cells": [
    {
      "cell_type": "markdown",
      "metadata": {
        "id": "view-in-github",
        "colab_type": "text"
      },
      "source": [
        "<a href=\"https://colab.research.google.com/github/PosgradoMNA/actividades-de-aprendizaje-JavierP-rez/blob/main/Module4_Actividad1_PythonForDataScience_IBM.ipynb\" target=\"_parent\"><img src=\"https://colab.research.google.com/assets/colab-badge.svg\" alt=\"Open In Colab\"/></a>"
      ]
    },
    {
      "cell_type": "markdown",
      "source": [
        "# Python for Data Science\n",
        "\n",
        "\n",
        "\n",
        "---\n",
        "\n",
        "\n",
        "\n",
        "---\n",
        "\n"
      ],
      "metadata": {
        "id": "OGuAmZrd1J_9"
      }
    },
    {
      "cell_type": "markdown",
      "source": [
        "Javier Pérez \n",
        "\n",
        "A01794233\n",
        "\n",
        "\n",
        "---\n",
        "\n"
      ],
      "metadata": {
        "id": "9LwUFFFc1vbt"
      }
    },
    {
      "cell_type": "markdown",
      "source": [
        "## Module 4 - Working with Data in Python\n",
        "\n",
        "\n",
        "---\n",
        "\n"
      ],
      "metadata": {
        "id": "uUNx2zw81SS8"
      }
    },
    {
      "cell_type": "markdown",
      "source": [
        "### Reading Files with Open\n",
        "\n",
        "\n",
        "---\n",
        "\n"
      ],
      "metadata": {
        "id": "7xvbJE2d2SU3"
      }
    },
    {
      "cell_type": "code",
      "execution_count": 36,
      "metadata": {
        "colab": {
          "base_uri": "https://localhost:8080/"
        },
        "id": "ezUyFDlo1Bf-",
        "outputId": "bb6683b2-f608-4ea0-9fff-1d4271d39f96"
      },
      "outputs": [
        {
          "output_type": "stream",
          "name": "stdout",
          "text": [
            "Drive already mounted at /content/gdrive; to attempt to forcibly remount, call drive.mount(\"/content/gdrive\", force_remount=True).\n",
            "cat: '/content/gdrive/My Drive/output.txt': No such file or directory\n"
          ]
        }
      ],
      "source": [
        "#Google Drive file I/O with Google Colaboratory\n",
        "# mount Google Drive\n",
        "from google.colab import drive\n",
        "drive.mount('/content/gdrive')\n",
        "\n",
        "gdrive_path = '/content/gdrive/My Drive/TestReadAndWriteFiles/'\n",
        "\n",
        "# write a file\n",
        "'''with open(f'{gdrive_path}output.txt', 'w') as file:\n",
        "  file.write('Hello Google Drive!')\n",
        "!cat /content/gdrive/My\\ Drive/output.txt'''\n",
        "\n",
        "with open(f'{gdrive_path}output.txt', 'w') as file:\n",
        "  file.write('Hello Google Drive!\\n Line1 \\n Line2 \\n Line3')\n",
        "!cat /content/gdrive/My\\ Drive/output.txt\n",
        "\n"
      ]
    },
    {
      "cell_type": "code",
      "source": [
        "#Python built-in function to create a file object, and obtain data from a txt file.\n",
        "File1 = open(\"/content/gdrive/My Drive/TestReadAndWriteFiles/output.txt\",\"w\")\n",
        "#Mode: w, r, a\n",
        "print(File1.name)\n",
        "print(File1.mode)\n",
        "File1.close()\n",
        "\n"
      ],
      "metadata": {
        "colab": {
          "base_uri": "https://localhost:8080/"
        },
        "id": "Q9JFzE3OFA1m",
        "outputId": "a197271e-f99e-46a0-c179-113ece1a8b45"
      },
      "execution_count": 28,
      "outputs": [
        {
          "output_type": "stream",
          "name": "stdout",
          "text": [
            "/content/gdrive/My Drive/TestReadAndWriteFiles/output.txt\n",
            "w\n"
          ]
        }
      ]
    },
    {
      "cell_type": "code",
      "source": [
        "with open('/content/gdrive/My Drive/TestReadAndWriteFiles/output.txt', 'r') as File1:\n",
        "  file_stuff = File1.read()\n",
        "  print(file_stuff)\n",
        "\n",
        "print(File1.closed)\n",
        "print(file_stuff)\n",
        "\n",
        "l = file_stuff.split()\n",
        "print(l)\n",
        "\n",
        "\n",
        "\n",
        "\n",
        "\n"
      ],
      "metadata": {
        "colab": {
          "base_uri": "https://localhost:8080/"
        },
        "id": "euLCbUWqHerY",
        "outputId": "a8ba3e14-5d2e-4424-b75c-77f360bffd20"
      },
      "execution_count": 35,
      "outputs": [
        {
          "output_type": "stream",
          "name": "stdout",
          "text": [
            "Hello Google Drive!\n",
            "True\n",
            "Hello Google Drive!\n",
            "['Hello', 'Google', 'Drive!']\n"
          ]
        }
      ]
    },
    {
      "cell_type": "code",
      "source": [
        "with open('/content/gdrive/My Drive/TestReadAndWriteFiles/output.txt', 'r') as File1:\n",
        "  file_stuff = File1.readlines()\n",
        "  #file_stuff = File1.readline()\n",
        "  #file_stuff2 = File1.readline()\n",
        "  #print(File1.readlines(4))\n",
        "  print(file_stuff)\n",
        "  \n",
        "for line in file_stuff:\n",
        "  print(line)\n",
        "\n",
        "# \\n\n"
      ],
      "metadata": {
        "colab": {
          "base_uri": "https://localhost:8080/"
        },
        "id": "ubVe7cF9Lep7",
        "outputId": "57670db1-df1a-4a46-a58b-6a8b91012c32"
      },
      "execution_count": 48,
      "outputs": [
        {
          "output_type": "stream",
          "name": "stdout",
          "text": [
            "['Hello Google Drive!\\n', ' Line1 \\n', ' Line2 \\n', ' Line3']\n",
            "Hello Google Drive!\n",
            "\n",
            " Line1 \n",
            "\n",
            " Line2 \n",
            "\n",
            " Line3\n"
          ]
        }
      ]
    }
  ]
}