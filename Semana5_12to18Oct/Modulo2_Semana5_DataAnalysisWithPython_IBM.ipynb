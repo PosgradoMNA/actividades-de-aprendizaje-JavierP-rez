{
  "nbformat": 4,
  "nbformat_minor": 0,
  "metadata": {
    "colab": {
      "provenance": [],
      "authorship_tag": "ABX9TyNZ6yeolJpCPi1XlbW6Imzz",
      "include_colab_link": true
    },
    "kernelspec": {
      "name": "python3",
      "display_name": "Python 3"
    },
    "language_info": {
      "name": "python"
    }
  },
  "cells": [
    {
      "cell_type": "markdown",
      "metadata": {
        "id": "view-in-github",
        "colab_type": "text"
      },
      "source": [
        "<a href=\"https://colab.research.google.com/github/PosgradoMNA/actividades-de-aprendizaje-JavierP-rez/blob/main/Semana5_12to18Oct/Modulo2_Semana5_DataAnalysisWithPython_IBM.ipynb\" target=\"_parent\"><img src=\"https://colab.research.google.com/assets/colab-badge.svg\" alt=\"Open In Colab\"/></a>"
      ]
    },
    {
      "cell_type": "markdown",
      "source": [
        "# Data Analysis with Python\n",
        "\n",
        "\n",
        "\n",
        "---\n",
        "\n",
        "\n",
        "\n",
        "---\n",
        "\n"
      ],
      "metadata": {
        "id": "HW-wS2kuaC9U"
      }
    },
    {
      "cell_type": "markdown",
      "source": [
        "* Nombre:\n",
        "  * Javier Pérez Sanagustín\n",
        "\n",
        "* Matrícula:\n",
        " * A01794233\n",
        "\n",
        "> Materia: Ciencia y analítica de datos (Gpo 10)\n",
        "\n",
        "Profesor titular: Jobish Vallikavungal\n",
        "\n",
        "Profesor tutor: Bernardo Charles Canales\n",
        "\n",
        "Fecha: 12 de octubre del 2022\n"
      ],
      "metadata": {
        "id": "C_5nvQWKaIG0"
      }
    },
    {
      "cell_type": "markdown",
      "source": [
        "## Module 2 - Data Wrangling\n",
        "\n",
        "\n",
        "---\n",
        "\n"
      ],
      "metadata": {
        "id": "z10FkEI7ahZl"
      }
    },
    {
      "cell_type": "markdown",
      "source": [
        "### Pre-Processing Data in Python"
      ],
      "metadata": {
        "id": "S_R0oYlia00r"
      }
    },
    {
      "cell_type": "code",
      "source": [
        "#Data pre-procesing.\n",
        "#Data cleaning. \n",
        "#Raw data to another format - further analysis\n",
        "#Identify and handle missing values\n",
        "#Data formatting.\n",
        "#Data normalization\n",
        "#Data binning.\n",
        "#Categorical values\n"
      ],
      "metadata": {
        "id": "dhm2KoAJajwp"
      },
      "execution_count": null,
      "outputs": []
    },
    {
      "cell_type": "markdown",
      "source": [
        "### Dealing with Missing Values in Python "
      ],
      "metadata": {
        "id": "pYn3LVn0a7oR"
      }
    },
    {
      "cell_type": "markdown",
      "source": [
        "### Data Formatting in Python "
      ],
      "metadata": {
        "id": "jP4fohHea_Dh"
      }
    },
    {
      "cell_type": "markdown",
      "source": [
        "### Data Normalization in Python"
      ],
      "metadata": {
        "id": "4lKC2ACwbBP8"
      }
    },
    {
      "cell_type": "markdown",
      "source": [
        "### Binning in Python"
      ],
      "metadata": {
        "id": "Vhpam5JvbC5n"
      }
    },
    {
      "cell_type": "markdown",
      "source": [
        "### Turning categorical variables into quantitative variables in Python "
      ],
      "metadata": {
        "id": "Wmo5wJOMbEbq"
      }
    },
    {
      "cell_type": "markdown",
      "source": [
        "### Lab 2 "
      ],
      "metadata": {
        "id": "-RWzJ8vNbG2O"
      }
    },
    {
      "cell_type": "markdown",
      "source": [
        "### Graded Review Questions (6 Questions) "
      ],
      "metadata": {
        "id": "0daqrj9QbK8q"
      }
    }
  ]
}