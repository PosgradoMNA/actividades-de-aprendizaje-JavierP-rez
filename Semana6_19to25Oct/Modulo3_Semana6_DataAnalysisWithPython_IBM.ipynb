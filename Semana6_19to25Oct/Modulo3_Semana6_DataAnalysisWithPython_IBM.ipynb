{
  "nbformat": 4,
  "nbformat_minor": 0,
  "metadata": {
    "colab": {
      "provenance": [],
      "authorship_tag": "ABX9TyMpiMHT9QCEOFw4bh2c1wUX",
      "include_colab_link": true
    },
    "kernelspec": {
      "name": "python3",
      "display_name": "Python 3"
    },
    "language_info": {
      "name": "python"
    }
  },
  "cells": [
    {
      "cell_type": "markdown",
      "metadata": {
        "id": "view-in-github",
        "colab_type": "text"
      },
      "source": [
        "<a href=\"https://colab.research.google.com/github/PosgradoMNA/actividades-de-aprendizaje-JavierP-rez/blob/main/Semana6_19to25Oct/Modulo3_Semana6_DataAnalysisWithPython_IBM.ipynb\" target=\"_parent\"><img src=\"https://colab.research.google.com/assets/colab-badge.svg\" alt=\"Open In Colab\"/></a>"
      ]
    },
    {
      "cell_type": "markdown",
      "source": [
        "# Data Analysis with Python\n",
        "\n",
        "\n",
        "---\n",
        "\n",
        "\n",
        "\n",
        "---\n",
        "\n"
      ],
      "metadata": {
        "id": "InLW4_5W1bdv"
      }
    },
    {
      "cell_type": "markdown",
      "source": [
        "\n",
        "\n",
        "*   Nombre:\n",
        "  *   Javier Pérez Sanagustín\n",
        "\n",
        "*   Matrícula:\n",
        "\n",
        "  *   A01794233\n",
        "\n",
        "> Materia: Ciencia y analítica de datos (Gpo 10)\n",
        "\n",
        "Profesor titular: María de la Paz Rico Fernández\n",
        "\n",
        "Profesor tutor: Bernardo Charles Canales\n",
        "\n",
        "Fecha: 19 de octubre del 2022\n"
      ],
      "metadata": {
        "id": "oIByCYtQ1eMj"
      }
    },
    {
      "cell_type": "markdown",
      "source": [
        "## Module 3 - Exploratory Data Analysis\n",
        "\n",
        "\n",
        "---\n"
      ],
      "metadata": {
        "id": "iLs5olCJ2GZV"
      }
    },
    {
      "cell_type": "markdown",
      "source": [
        "### Exploratory Data Analysis"
      ],
      "metadata": {
        "id": "RWwewKMT2MXI"
      }
    },
    {
      "cell_type": "markdown",
      "source": [
        "### Descriptive Statistics"
      ],
      "metadata": {
        "id": "q8DePsKq2V4Y"
      }
    },
    {
      "cell_type": "markdown",
      "source": [
        "### GroupBy in Python"
      ],
      "metadata": {
        "id": "a8pblbh62bJW"
      }
    },
    {
      "cell_type": "markdown",
      "source": [
        "### Analysis of Variance ANOVA"
      ],
      "metadata": {
        "id": "giNk-NEL2bYV"
      }
    },
    {
      "cell_type": "markdown",
      "source": [
        "### Correlation"
      ],
      "metadata": {
        "id": "Ne_zvnyA2bon"
      }
    },
    {
      "cell_type": "markdown",
      "source": [
        "### Correlation - Statistics"
      ],
      "metadata": {
        "id": "Jlf-7I_X2b5L"
      }
    },
    {
      "cell_type": "markdown",
      "source": [
        "### Lab 3"
      ],
      "metadata": {
        "id": "bKfQqBOi2cH6"
      }
    },
    {
      "cell_type": "markdown",
      "source": [
        "### Graded Review Questions (5 Questions)"
      ],
      "metadata": {
        "id": "t3xns3K32cag"
      }
    }
  ]
}