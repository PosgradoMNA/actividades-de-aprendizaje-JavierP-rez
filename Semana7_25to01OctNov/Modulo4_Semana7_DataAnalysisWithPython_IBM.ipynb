{
  "nbformat": 4,
  "nbformat_minor": 0,
  "metadata": {
    "colab": {
      "provenance": [],
      "authorship_tag": "ABX9TyOCoAC2HQolo9kbs/D7qdQy",
      "include_colab_link": true
    },
    "kernelspec": {
      "name": "python3",
      "display_name": "Python 3"
    },
    "language_info": {
      "name": "python"
    }
  },
  "cells": [
    {
      "cell_type": "markdown",
      "metadata": {
        "id": "view-in-github",
        "colab_type": "text"
      },
      "source": [
        "<a href=\"https://colab.research.google.com/github/PosgradoMNA/actividades-de-aprendizaje-JavierP-rez/blob/main/Semana7_25to01OctNov/Modulo4_Semana7_DataAnalysisWithPython_IBM.ipynb\" target=\"_parent\"><img src=\"https://colab.research.google.com/assets/colab-badge.svg\" alt=\"Open In Colab\"/></a>"
      ]
    },
    {
      "cell_type": "markdown",
      "source": [
        "# Data Analysis with Python\n",
        "\n",
        "\n",
        "---\n",
        "\n",
        "\n",
        "\n",
        "---\n",
        "\n",
        "\n",
        "\n",
        "* Nombre:\n",
        "  * Javier Pérez Sanagustín\n",
        "\n",
        "* Matrícula:\n",
        "  * A01794233\n",
        "\n",
        "Materia: \n",
        "\n",
        "\n",
        "\n",
        "> Ciencia y analítica de datos (Gpo 10)\n",
        "\n",
        "\n",
        "\n",
        "Profesor titular: María de la Paz Rico Fernández\n",
        "\n",
        "Profesor tutor: Bernardo Charles Canales\n",
        "\n",
        "Fecha: 26 de octubre del 2022\n"
      ],
      "metadata": {
        "id": "222vOTCItF_3"
      }
    },
    {
      "cell_type": "markdown",
      "source": [
        "## Module 4 - Model Development \n",
        "\n",
        "\n",
        "---\n",
        "\n"
      ],
      "metadata": {
        "id": "5_2qCbJJtYkc"
      }
    },
    {
      "cell_type": "markdown",
      "source": [
        "### Model Development"
      ],
      "metadata": {
        "id": "ho57DFZutqN-"
      }
    },
    {
      "cell_type": "code",
      "source": [],
      "metadata": {
        "id": "AusK2uFduUYK"
      },
      "execution_count": null,
      "outputs": []
    },
    {
      "cell_type": "markdown",
      "source": [
        "### Linear Regression and Multiple Linear Regression"
      ],
      "metadata": {
        "id": "zVFgwj8At3dJ"
      }
    },
    {
      "cell_type": "code",
      "source": [],
      "metadata": {
        "id": "T58xdkZZuViW"
      },
      "execution_count": null,
      "outputs": []
    },
    {
      "cell_type": "markdown",
      "source": [
        "### Model Evaluation using Visualization"
      ],
      "metadata": {
        "id": "LQyFtUrMt7Zk"
      }
    },
    {
      "cell_type": "code",
      "source": [],
      "metadata": {
        "id": "tiV1i2qvuWDJ"
      },
      "execution_count": null,
      "outputs": []
    },
    {
      "cell_type": "markdown",
      "source": [
        "### Polynomial Regression and Pipelines"
      ],
      "metadata": {
        "id": "o7HqQoAFt_J0"
      }
    },
    {
      "cell_type": "code",
      "source": [],
      "metadata": {
        "id": "lG0D96YFuWds"
      },
      "execution_count": null,
      "outputs": []
    },
    {
      "cell_type": "markdown",
      "source": [
        "### Measures for In-Sample Evaluation 3:37 "
      ],
      "metadata": {
        "id": "YpC41I1XuBhz"
      }
    },
    {
      "cell_type": "code",
      "source": [],
      "metadata": {
        "id": "-3GZ_vN0uW1U"
      },
      "execution_count": null,
      "outputs": []
    },
    {
      "cell_type": "markdown",
      "source": [
        "### Prediction and Decision Making"
      ],
      "metadata": {
        "id": "GaNt-5WNuDF6"
      }
    },
    {
      "cell_type": "code",
      "source": [],
      "metadata": {
        "id": "wxM9cq1wuXUt"
      },
      "execution_count": null,
      "outputs": []
    },
    {
      "cell_type": "markdown",
      "source": [
        "### Lab 4"
      ],
      "metadata": {
        "id": "7C32kxyCuFYr"
      }
    },
    {
      "cell_type": "code",
      "source": [],
      "metadata": {
        "id": "xQsx-KnduXsq"
      },
      "execution_count": null,
      "outputs": []
    },
    {
      "cell_type": "markdown",
      "source": [
        "### Graded Review Questions (5 Questions) "
      ],
      "metadata": {
        "id": "vmgVWuGiuHoo"
      }
    }
  ]
}